{
 "cells": [
  {
   "cell_type": "code",
   "execution_count": 6,
   "metadata": {},
   "outputs": [],
   "source": [
    "import geemap\n",
    "import ee\n",
    "from scripts.analysis_functions import bs_calc_new\n",
    "ee.Initialize(project='pyregence-ee')"
   ]
  },
  {
   "cell_type": "code",
   "execution_count": 7,
   "metadata": {},
   "outputs": [
    {
     "name": "stdout",
     "output_type": "stream",
     "text": [
      "{'Asmnt_Type': 'Initial', 'BurnBndAc': 1164, 'BurnBndLat': '35.574', 'BurnBndLon': '-96.168', 'Discovery': '2020-01-01', 'Event_ID': 'OK3555209617620200101', 'Incid_Name': 'BRIAR CREEK', 'Incid_Type': 'Wildfire', 'Map_ID': 10018965, 'Map_Prog': 'MTBS', 'Year': 2020, 'irwinID': 'AFAA0704-7DA5-4CFE-AB74-9DA456AC0B50'}\n"
     ]
    }
   ],
   "source": [
    "fires = ee.FeatureCollection(\"projects/pyregence-ee/assets/conus/mtbs/mtbs_fires_2020_20230406\")\n",
    "fire = fires.first() # ee.Feature(fires.filter(ee.Filter.eq('Name','Dixie'))\n",
    "print(fire.getInfo()['properties'])\n",
    "\n",
    "bs = bs_calc_new(fire)"
   ]
  },
  {
   "cell_type": "code",
   "execution_count": 9,
   "metadata": {},
   "outputs": [
    {
     "data": {
      "application/vnd.jupyter.widget-view+json": {
       "model_id": "d06018c01d4f4c9aa7b696c29f6e3e96",
       "version_major": 2,
       "version_minor": 0
      },
      "text/plain": [
       "Map(center=[35.57497943507915, -96.16976311652586], controls=(WidgetControl(options=['position', 'transparent_…"
      ]
     },
     "execution_count": 9,
     "metadata": {},
     "output_type": "execute_result"
    }
   ],
   "source": [
    "Map = geemap.Map()\n",
    "Map.addLayer(bs,{'min':1,'max':4,\"palette\":[\"00ff1f\",\"fbff0e\",\"ffbc00\",\"ff0000\"]},'bs one fire')\n",
    "Map.centerObject(bs,10)\n",
    "\n",
    "Map\n",
    "\n"
   ]
  },
  {
   "cell_type": "code",
   "execution_count": null,
   "metadata": {},
   "outputs": [],
   "source": [
    "## Deconstruct the functions that go into bs_calc_new() if you need to dig down deeper \n",
    "\n",
    "import scripts.fire_info as fi\n",
    "import scripts.get_image_collections as gic\n",
    "import scripts.get_image_collections2 as gic2\n",
    "import scripts.analysis_functions as af\n",
    "def bs_calc_new_deconstructed(feat: ee.Feature):\n",
    "    fire = ee.Feature(feat)\n",
    "    # fire_geom = fire.geometry()\n",
    "    \n",
    "    fire = ee.Feature(fi.set_windows(fire))\n",
    "    region = fire.geometry()\n",
    "    # mode = fire.get('mode')\n",
    "    pre_start = fire.get('pre_start')\n",
    "    pre_end = fire.get('pre_end')\n",
    "    post_start = fire.get('post_start')\n",
    "    post_end = fire.get('post_end')\n",
    "    \n",
    "    sensor = \"landsat\"\n",
    "    pre_collection = gic2.getLandsatToa(pre_start,pre_end,region)\n",
    "    pre_img = gic.get_composite(pre_collection,gic.make_pre_composite,pre_start,pre_end)\n",
    "\n",
    "    post_collection = gic2.getLandsatToa(post_start,post_end,region)\n",
    "    post_img = gic.get_composite(post_collection,gic.make_nrt_composite, sensor) \n",
    "    \n",
    "    rdnbr_calc = af.rdnbr(pre_img,post_img)\n",
    "    miller = af.miller_thresholds(rdnbr_calc)\n",
    "    \n",
    "    return ee.Image(miller).clip(region).select('MillersThresholds').toByte() \n",
    "    # return pre_start, pre_end, post_start, post_end, pre_collection, post_collection, pre_img, post_img, \n",
    "\n",
    "pre_s,pre_e,post_s,post_e,pre_c,post_c,pre_i,post_i = bs_calc_new_deconstructed(fire)"
   ]
  },
  {
   "cell_type": "code",
   "execution_count": null,
   "metadata": {},
   "outputs": [],
   "source": [
    "# DEBUG NIFC single fire\n",
    "# One set of yearly fires, no need for remove_recent() or year/ac filtering, that was already done upon data fetch\n",
    "## BUG: when mode is set to recent, get error on:  post_collection = gic2.getLandsatToa(post_start,post_end,region)\n",
    "# yr='2021'\n",
    "# # fires = ee.FeatureCollection(\"projects/pyregence-ee/assets/conus/mtbs/mtbs_fires_all_20220928\")\n",
    "# fires = ee.FeatureCollection(f\"projects/pyregence-ee/assets/conus/nifc/nifc_fires_{yr}_gte500acres_20221004\")\n",
    "\n",
    "# print(f'Total Fires in FeatureCollection: {fires.size().getInfo()}')\n",
    "\n",
    "# # filter 2022 fires for a July 1 cut-off\n",
    "# if yr=='2022':\n",
    "#     fires = fires.filter(ee.Filter.lte('Discovery','2022-07-01'))\n",
    "#     print(fires.sort('Discovery',False).first().getInfo()['properties'])\n",
    "#     print(f'Fires after filter: {fires.size().getInfo()}')\n",
    "\n",
    "# # fire= fires.filter(ee.Filter.eq('GlobalID','826b1cca-9f48-4078-9442-c9bc715b9e44')).first()\n",
    "# fire = fires.sort('Discovery',False).first()\n",
    "# # print(fire.getInfo()['properties'])\n",
    "# # finding that cut-off b/w a fire that would be assigned recent vs historical (365 days prior to today)\n",
    "# # fire = ee.Feature(fires.filter(ee.Filter.lte('Discovery','2021-11-01')).sort('Discovery',False).first())\n",
    "\n",
    "# # we now get run mode and pre/post dates set for the fire feature itself\n",
    "# fire = ee.Feature(fi.set_windows(fire))\n",
    "## region = fire.geometry()\n",
    "# mode = fire.get('mode')\n",
    "# pre_start = fire.get('pre_start')\n",
    "# pre_end = fire.get('pre_end')\n",
    "# post_start = fire.get('post_start')\n",
    "# post_end = fire.get('post_end')\n",
    "# print(mode.getInfo())\n",
    "# print(fire.getInfo()['properties'])\n",
    "\n",
    "# sensor = \"landsat\"\n",
    "# pre_collection = gic2.getLandsatToa(pre_start,pre_end,region)\n",
    "# pre_img = gic.get_composite(pre_collection,gic.make_pre_composite,pre_start,pre_end)\n",
    "\n",
    "# post_collection = gic2.getLandsatToa(post_start,post_end,region)\n",
    "# post_img = gic.get_composite(post_collection,gic.make_nrt_composite, sensor) \n",
    "\n",
    "# print(pre_collection.size().getInfo())\n",
    "# print(pre_img.bandNames().getInfo())\n",
    "\n",
    "# print(post_collection.size().getInfo())\n",
    "# print(post_img.bandNames().getInfo())\n",
    "\n",
    "# rdnbr = af.rdnbr(pre_img,post_img)\n",
    "# miller = af.miller_thresholds(rdnbr).add(1).clip(region).select('MillersThresholds').toByte()     "
   ]
  },
  {
   "cell_type": "code",
   "execution_count": null,
   "metadata": {},
   "outputs": [],
   "source": [
    "# look at post_img and determine for yourself if its good enough to be using for analysis \n",
    "# Map.addLayer(pre_img,{\"bands\":[\"SWIR2\",\"NIR\",\"RED\"],\"min\":0,\"max\":0.848},\"pre\")\n",
    "# Map.addLayer(post_img,{\"bands\":[\"SWIR2\",\"NIR\",\"RED\"],\"min\":0,\"max\":0.848},\"post\")\n",
    "# Map.addLayer(rdnbr.clip(region),{\"min\":0,\"max\":1500,\"palette\":[\"00ff1f\",\"fbff0e\",\"ffbc00\",\"ff0000\"]},'rdnbr')\n",
    "# Map.addLayer(miller.clip(region),{\"min\":1,\"max\":4,\"palette\":[\"00ff1f\",\"fbff0e\",\"ffbc00\",\"ff0000\"]},'miller')\n",
    "# Map.addLayer(region, {}, 'region')\n",
    "# Map.centerObject(region, 11)\n",
    "# Map"
   ]
  },
  {
   "cell_type": "code",
   "execution_count": null,
   "metadata": {},
   "outputs": [],
   "source": [
    "# Map = geemap.Map()\n",
    "# Map.addLayer(pre_img.clip(region),{\"bands\":[\"SWIR2\",\"NIR\",\"RED\"],\"min\":0,\"max\":0.848},\"pre snr\")\n",
    "# Map.addLayer(post_img.clip(region),{\"bands\":[\"SWIR2\",\"NIR\",\"RED\"],\"min\":0,\"max\":0.848},\"post snr\")\n",
    "# Map.addLayer(pre_img.clip(region),{\"bands\":[\"RED\",\"BLUE\",\"GREEN\"],\"min\":0,\"max\":0.848},\"pre rgb\")\n",
    "# Map.addLayer(post_img.clip(region),{\"bands\":[\"RED\",\"BLUE\",\"GREEN\"],\"min\":0,\"max\":0.848},\"post rgb\")\n",
    "# Map.addLayer(rdnbr.clip(region),{\"min\":0,\"max\":1500,\"palette\":[\"00ff1f\",\"fbff0e\",\"ffbc00\",\"ff0000\"]},'rdnbr')\n",
    "# Map.addLayer(miller.clip(region),{\"min\":1,\"max\":4,\"palette\":[\"00ff1f\",\"fbff0e\",\"ffbc00\",\"ff0000\"]},'miller')\n",
    "# Map.addLayer(region, {}, 'region')\n",
    "# Map.centerObject(region, 11)\n",
    "# Map"
   ]
  }
 ],
 "metadata": {
  "kernelspec": {
   "display_name": "gee",
   "language": "python",
   "name": "python3"
  },
  "language_info": {
   "codemirror_mode": {
    "name": "ipython",
    "version": 3
   },
   "file_extension": ".py",
   "mimetype": "text/x-python",
   "name": "python",
   "nbconvert_exporter": "python",
   "pygments_lexer": "ipython3",
   "version": "3.8.13"
  },
  "orig_nbformat": 4
 },
 "nbformat": 4,
 "nbformat_minor": 2
}
