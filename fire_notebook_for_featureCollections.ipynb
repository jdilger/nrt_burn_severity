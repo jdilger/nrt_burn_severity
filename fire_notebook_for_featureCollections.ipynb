{
 "cells": [
  {
   "cell_type": "code",
   "execution_count": 1,
   "metadata": {},
   "outputs": [],
   "source": [
    "import geemap\n",
    "import ee\n",
    "ee.Initialize(project='pyregence-ee')\n",
    "import scripts.analysis_functions as af\n",
    "import scripts.fire_info as fi\n",
    "import scripts.get_image_collections as gic\n",
    "import scripts.utils as utils"
   ]
  },
  {
   "cell_type": "code",
   "execution_count": 11,
   "metadata": {},
   "outputs": [
    {
     "name": "stdout",
     "output_type": "stream",
     "text": [
      "computing burn severity for 478 fires\n",
      "computing burn severity for 93 fires\n"
     ]
    }
   ],
   "source": [
    "def bs_calc(feat) -> ee.ImageCollection:\n",
    "    \n",
    "    feature = ee.Feature(feat)\n",
    "    region, fire_start, fire_end, pre_start, pre_end = fi.get_fire_info_from_feature(feature) \n",
    "    \n",
    "    # landsatCol : None, t2, bestls\n",
    "    # None=T1 real time toa, t2=None+ T1 real time toa, bestls=T1 toa\n",
    "    # cloudBustingMethod : None, bust\n",
    "    # None=No cloud masking/busting, bust=cloud busting\n",
    "    # sensor : landsat, sentinel2\n",
    "    sensor = \"landsat\"\n",
    "    \n",
    "    pre_collection = gic.get_image_collection(sensor,region,pre_start,pre_end,landsatCol='bestls',cloudBustingMethod='bust')\n",
    "    pre_img = gic.get_composite(pre_collection,gic.make_pre_composite,pre_start,pre_end)\n",
    "  \n",
    "    post_collection = gic.get_image_collection(sensor,region,fire_start,fire_end,landsatCol='bestls', cloudBustingMethod='bust')\n",
    "    post_img = gic.get_composite(post_collection,gic.make_pre_composite,fire_start, fire_end)\n",
    "\n",
    "    rdnbr = af.rdnbr(pre_img,post_img)\n",
    "    miller = af.miller_thresholds(rdnbr)\n",
    "\n",
    "    return ee.Image(miller).clip(region).select('MillersThresholds').toByte()\n",
    "\n",
    "# version 1 uses 1yr prior / 1 yr after for pre-fire and post-fire assessment taking 3mo composites straddling fire discovery date\n",
    "# featCollv1 = ee.FeatureCollection('projects/pyregence-ee/assets/conus/nifc/nifc_fires_2020_gte500acres_v1')\n",
    "# print(f'computing burn severity for {featCollv1.size().getInfo()} fires')\n",
    "# bs_collv1 = ee.FeatureCollection(featCollv1).map(bs_calc)\n",
    "# bs_finalv1 = ee.ImageCollection(bs_collv1).max().rename('SEVERITY')\n",
    "\n",
    "# # version 2 uses same yr / 1yr after for pre-fire and post-fire assessment, taking 3mo composite leading up to fire discovery date\n",
    "# featCollv2 = ee.FeatureCollection('projects/pyregence-ee/assets/conus/nifc/nifc_fires_2020_gte500acres_v2')\n",
    "# print(f'computing burn severity for {featCollv2.size().getInfo()} fires')\n",
    "# bs_collv2 = ee.FeatureCollection(featCollv2).map(bs_calc)\n",
    "# bs_finalv2 = ee.ImageCollection(bs_collv2).max().rename('SEVERITY')\n",
    "\n",
    "# version 3 uses 1yr before / 1yr after for pre-fire and post-fire assessment, taking 3mo composite leading up to fire discovery date\n",
    "featCollv3 = ee.FeatureCollection('projects/pyregence-ee/assets/conus/nifc/nifc_fires_2020_gte500acres_v3')\n",
    "print(f'computing burn severity for {featCollv3.size().getInfo()} fires')\n",
    "bs_collv3 = ee.FeatureCollection(featCollv3).map(bs_calc)\n",
    "bs_finalv3 = ee.ImageCollection(bs_collv3).max().rename('SEVERITY')\n",
    "\n",
    "featColl = ee.FeatureCollection(\"projects/pyregence-ee/assets/conus/nifc/calfire_frap_fires_2020_gte500acres\")\n",
    "print(f'computing burn severity for {featColl.size().getInfo()} fires')\n",
    "bs_coll = ee.FeatureCollection(featColl).map(bs_calc)\n",
    "bs_final = ee.ImageCollection(bs_coll).max().rename('SEVERITY')\n",
    "\n",
    "bs_nifc_plus_calfire = ee.ImageCollection([bs_finalv3,bs_final]).max()"
   ]
  },
  {
   "cell_type": "code",
   "execution_count": 12,
   "metadata": {},
   "outputs": [
    {
     "data": {
      "application/vnd.jupyter.widget-view+json": {
       "model_id": "927a0ae6cefb49c1b1e94dc5151866a6",
       "version_major": 2,
       "version_minor": 0
      },
      "text/plain": [
       "Map(center=[39, -112], controls=(WidgetControl(options=['position', 'transparent_bg'], widget=HBox(children=(T…"
      ]
     },
     "metadata": {},
     "output_type": "display_data"
    }
   ],
   "source": [
    "Map = geemap.Map()\n",
    "Map.addLayer(bs_finalv3, {\"min\":0,\"max\":3,\"palette\":[\"00ff1f\",\"fbff0e\",\"ffbc00\",\"ff0000\"]},'nifc bs v3', False)\n",
    "Map.addLayer(bs_final, {\"min\":0,\"max\":3,\"palette\":[\"00ff1f\",\"fbff0e\",\"ffbc00\",\"ff0000\"]},'calfire bs', False)\n",
    "Map.addLayer(bs_nifc_plus_calfire, {\"min\":0,\"max\":3,\"palette\":[\"00ff1f\",\"fbff0e\",\"ffbc00\",\"ff0000\"]},'calfire + nifc bs')\n",
    "\n",
    "# Map.addLayer(bs_finalv1, {\"min\":0,\"max\":3,\"palette\":[\"00ff1f\",\"fbff0e\",\"ffbc00\",\"ff0000\"]},'bs v1')\n",
    "# Map.addLayer(bs_finalv2, {\"min\":0,\"max\":3,\"palette\":[\"00ff1f\",\"fbff0e\",\"ffbc00\",\"ff0000\"]},'bs v2')\n",
    "# Map.addLayer(bs_finalv3, {\"min\":0,\"max\":3,\"palette\":[\"00ff1f\",\"fbff0e\",\"ffbc00\",\"ff0000\"]},'bs v3')\n",
    "\n",
    "#Map.addLayer(featCollv1, {'color':'pink'}, 'fires', True,0.4)\n",
    "Map.setCenter(-112, 39, 6)\n",
    "\n",
    "Map"
   ]
  },
  {
   "cell_type": "code",
   "execution_count": 13,
   "metadata": {},
   "outputs": [
    {
     "name": "stdout",
     "output_type": "stream",
     "text": [
      "export task started\n"
     ]
    }
   ],
   "source": [
    "# export img to asset\n",
    "# desc = 'bs_2020fires_gte500ac_v1'\n",
    "# utils.exportImgtoAsset(bs_finalv1, desc=desc, export=True)\n",
    "\n",
    "# desc = 'bs_2020fires_gte500ac_v2'\n",
    "# utils.exportImgtoAsset(bs_finalv2, desc=desc, export=True)\n",
    "\n",
    "# desc = 'bs_2020fires_gte500ac_v3'\n",
    "# utils.exportImgtoAsset(bs_finalv3, desc=desc, export=True)\n",
    "\n",
    "desc = 'bs_2020fires_gte500ac_2021_11_16'\n",
    "utils.exportImgtoAsset(bs_nifc_plus_calfire, desc=desc, export=True)"
   ]
  }
 ],
 "metadata": {
  "interpreter": {
   "hash": "9471d8a5a6a1897ee9c80578c8cc898e57b5e349b99f20e3cbcb657935cc3385"
  },
  "kernelspec": {
   "display_name": "Python 3.9.7 64-bit ('gee': conda)",
   "name": "python3"
  },
  "language_info": {
   "codemirror_mode": {
    "name": "ipython",
    "version": 3
   },
   "file_extension": ".py",
   "mimetype": "text/x-python",
   "name": "python",
   "nbconvert_exporter": "python",
   "pygments_lexer": "ipython3",
   "version": "3.9.7"
  }
 },
 "nbformat": 4,
 "nbformat_minor": 4
}
