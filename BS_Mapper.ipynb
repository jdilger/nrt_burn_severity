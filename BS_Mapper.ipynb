{
 "cells": [
  {
   "cell_type": "code",
   "execution_count": 7,
   "metadata": {},
   "outputs": [
    {
     "name": "stdout",
     "output_type": "stream",
     "text": [
      "The autoreload extension is already loaded. To reload it, use:\n",
      "  %reload_ext autoreload\n"
     ]
    }
   ],
   "source": [
    "import ee\n",
    "ee.Initialize(project='pyregence-ee')\n",
    "import scripts.analysis_functions as af\n",
    "import scripts.utils as utils\n",
    "%load_ext autoreload\n",
    "%autoreload 2"
   ]
  },
  {
   "attachments": {},
   "cell_type": "markdown",
   "metadata": {},
   "source": [
    "### Run BS Mapper for NIFC 2021 and 2022 fire sets"
   ]
  },
  {
   "cell_type": "code",
   "execution_count": 6,
   "metadata": {},
   "outputs": [
    {
     "name": "stdout",
     "output_type": "stream",
     "text": [
      "Total Fires in FeatureCollection: 1201\n",
      "export task started: projects/pyregence-ee/assets/conus/nifc/nifc_bs_2022_gte100acres_20230406\n"
     ]
    }
   ],
   "source": [
    "# One set of yearly fires, no need for remove_recent() or year/ac filtering, that was already done upon data fetch\n",
    "# NIFC\n",
    "yr='2022'\n",
    "fires_asset = f\"projects/pyregence-ee/assets/conus/nifc/nifc_fires_{yr}_gte100ac_20230406\"\n",
    "fires = ee.FeatureCollection(fires_asset)\n",
    "print(f'Total Fires in FeatureCollection: {fires.size().getInfo()}')\n",
    "\n",
    "# filter 2022 fires for a July 1 cut-off (was for FireFactor V2)\n",
    "# if yr=='2022':\n",
    "#     fires = fires.filter(ee.Filter.lte('Discovery','2022-07-01'))\n",
    "#     print(fires.sort('Discovery',False).first().getInfo()['properties'])\n",
    "#     print(f'Fires after filter: {fires.size().getInfo()}')\n",
    "\n",
    "# return BS ee.Image for each fire ee.Feature\n",
    "bs_imgColl = ee.FeatureCollection(fires).map(af.bs_calc_new)\n",
    "\n",
    "# composite that ee.ImageCollection with a max() reducer\n",
    "annual_conus_bs = ee.ImageCollection(bs_imgColl).max().add(1).rename('SEVERITY').set('Year',int(yr)) #shift severity values +1 so 0 can be nodata\n",
    "# To Asset\n",
    "desc = f'nifc_bs_{yr}_gte100acres_20230406'\n",
    "utils.exportImgtoAsset(annual_conus_bs, \n",
    "                    desc=desc,\n",
    "                    region=None,\n",
    "                    asset_folder= \"projects/pyregence-ee/assets/conus/nifc\", \n",
    "                    export_type='conus',\n",
    "                    export=True)\n",
    "                    #default=sensor)\n",
    "       "
   ]
  },
  {
   "cell_type": "code",
   "execution_count": 9,
   "metadata": {},
   "outputs": [
    {
     "name": "stdout",
     "output_type": "stream",
     "text": [
      "Total Fires in FeatureCollection: 814\n",
      "export task started: projects/pyregence-ee/assets/conus/mtbs/mtbs_bs_2020_20230406\n",
      "\n",
      "\n"
     ]
    }
   ],
   "source": [
    "# Running for MTBS 2020\n",
    "fires = ee.FeatureCollection(\"projects/pyregence-ee/assets/conus/mtbs/mtbs_fires_2020_20230406\")\n",
    "print(f'Total Fires in FeatureCollection: {fires.size().getInfo()}')\n",
    "\n",
    "bs_imgColl = ee.FeatureCollection(fires).map(af.bs_calc_new)\n",
    "annual_conus_bs = ee.ImageCollection(bs_imgColl).max().add(1).rename('SEVERITY').set('Year',2020) #shift severity values +1 so 0 can be nodata\n",
    "\n",
    "# To Asset\n",
    "desc = f'mtbs_bs_2020_20230406'\n",
    "utils.exportImgtoAsset(annual_conus_bs, \n",
    "                    desc=desc,\n",
    "                    region=None,\n",
    "                    asset_folder= \"projects/pyregence-ee/assets/conus/mtbs\", \n",
    "                    export_type='conus',\n",
    "                    export=True)\n",
    "                    #default=sensor)\n",
    "print('\\n')"
   ]
  },
  {
   "attachments": {},
   "cell_type": "markdown",
   "metadata": {},
   "source": [
    "## Run BS Mapper for MTBS yearly fire perims in a for-loop"
   ]
  },
  {
   "cell_type": "code",
   "execution_count": 4,
   "metadata": {},
   "outputs": [
    {
     "name": "stdout",
     "output_type": "stream",
     "text": [
      "Total Fires in FeatureCollection: 29533\n",
      "2013\n",
      "Computing Burn Severity for 672 fires in 2013: \n",
      "would export to projects/pyregence-ee/assets/conus/mtbs/mtbs_annual_bs_2013_ImproveWindowing\n",
      "set export = True to when ready\n",
      "\n",
      "\n",
      "2014\n",
      "Computing Burn Severity for 1000 fires in 2014: \n",
      "would export to projects/pyregence-ee/assets/conus/mtbs/mtbs_annual_bs_2014_ImproveWindowing\n",
      "set export = True to when ready\n",
      "\n",
      "\n",
      "2015\n",
      "Computing Burn Severity for 1151 fires in 2015: \n",
      "would export to projects/pyregence-ee/assets/conus/mtbs/mtbs_annual_bs_2015_ImproveWindowing\n",
      "set export = True to when ready\n",
      "\n",
      "\n",
      "2016\n",
      "Computing Burn Severity for 1331 fires in 2016: \n",
      "would export to projects/pyregence-ee/assets/conus/mtbs/mtbs_annual_bs_2016_ImproveWindowing\n",
      "set export = True to when ready\n",
      "\n",
      "\n",
      "2017\n",
      "Computing Burn Severity for 1294 fires in 2017: \n",
      "would export to projects/pyregence-ee/assets/conus/mtbs/mtbs_annual_bs_2017_ImproveWindowing\n",
      "set export = True to when ready\n",
      "\n",
      "\n",
      "2018\n",
      "Computing Burn Severity for 1129 fires in 2018: \n",
      "would export to projects/pyregence-ee/assets/conus/mtbs/mtbs_annual_bs_2018_ImproveWindowing\n",
      "set export = True to when ready\n",
      "\n",
      "\n",
      "2019\n",
      "Computing Burn Severity for 810 fires in 2019: \n",
      "would export to projects/pyregence-ee/assets/conus/mtbs/mtbs_annual_bs_2019_ImproveWindowing\n",
      "set export = True to when ready\n",
      "\n",
      "\n",
      "2020\n",
      "Computing Burn Severity for 814 fires in 2020: \n",
      "would export to projects/pyregence-ee/assets/conus/mtbs/mtbs_annual_bs_2020_ImproveWindowing\n",
      "set export = True to when ready\n",
      "\n",
      "\n"
     ]
    }
   ],
   "source": [
    "# Running for each year of MTBS fire perims \n",
    "fires = ee.FeatureCollection(\"projects/pyregence-ee/assets/conus/mtbs/mtbs_fires_all_20220928\")\n",
    "print(f'Total Fires in FeatureCollection: {fires.size().getInfo()}')\n",
    "# acre_min = 0 # can filter by Acres field \n",
    "years = [2013,2014,2015,2016,2017,2018,2019,2020]\n",
    "# print(fires.sort('Year',False).first().getInfo()['properties'])\n",
    "# fires = fires.filter(ee.Filter.eq('Year',2021))\n",
    "# print(fires.size().getInfo())\n",
    "for y in years:\n",
    "    fires_f = fires.filter(ee.Filter.eq('Year',int(y)))\n",
    "    # fires_w_filters = gic.remove_recent(fires).filter(ee.Filter.And(ee.Filter.gte('BurnBndAc', acre_min),ee.Filter.eq('Year',y)) )\n",
    "    print(f'Computing Burn Severity for {fires_f.size().getInfo()} fires in {y}: ')\n",
    "\n",
    "    # latest_fire = fires_w_filters.sort('Discovery',False).first()\n",
    "    # print('latest fire: ', latest_fire.get('Discovery').getInfo())\n",
    "\n",
    "    # run_mode = fi.config_mode(latest_fire)\n",
    "    # print(f'run mode: {run_mode}')\n",
    "    \n",
    "    bs_imgColl = ee.FeatureCollection(fires_f).map(af.bs_calc_new)\n",
    "    annual_conus_bs = ee.ImageCollection(bs_imgColl).max().add(1).rename('SEVERITY').set('Year',y) #shift severity values +1 so 0 can be nodata\n",
    "    \n",
    "    # To Asset\n",
    "    desc = f'mtbs_annual_bs_{str(y)}_ImproveWindowing'\n",
    "    utils.exportImgtoAsset(annual_conus_bs, \n",
    "                        desc=desc,\n",
    "                        region=None,\n",
    "                        asset_folder= \"projects/pyregence-ee/assets/conus/mtbs\", \n",
    "                        export_type='conus',\n",
    "                        export=False)\n",
    "                        #default=sensor)\n",
    "    print('\\n')"
   ]
  },
  {
   "attachments": {},
   "cell_type": "markdown",
   "metadata": {},
   "source": [
    "## MTBS annual fire perims 2013-2020"
   ]
  },
  {
   "attachments": {},
   "cell_type": "markdown",
   "metadata": {},
   "source": [
    "# For one fire (takes a Feature)\n",
    "### Select a fire from a pre-existing fire featurecollection or provide your own fire feature asset (must have 'Discovery' property with value of format ee.String('yyyy-mm-dd') )\n"
   ]
  },
  {
   "attachments": {},
   "cell_type": "markdown",
   "metadata": {},
   "source": [
    "## Exports\n",
    "### To export an annual set of fires, use export_type = 'conus', if its a single fire, use export_type = 'single_fire'"
   ]
  },
  {
   "cell_type": "code",
   "execution_count": null,
   "metadata": {},
   "outputs": [],
   "source": [
    "CA = ee.FeatureCollection(\"TIGER/2018/States\").filter(ee.Filter.eq('NAME','California')).first()\n",
    "# Map.addLayer(ee.Feature(CA))\n",
    "# print(ee.Feature(CA).getInfo()['properties'])\n",
    "                                                      \n",
    "# Single Fire export templates\n",
    "# # To Google Drive\n",
    "# desc = 'dixie_bs2020_test_20211227'\n",
    "# utils.exportImgtoDrive(miller,\n",
    "#                         desc,\n",
    "#                         export_type='single_fire',\n",
    "#                         folder='BurnSeverity_outputs',\n",
    "#                         export=True,\n",
    "#                         default=sensor)\n",
    "\n",
    "\n",
    "# # To Asset\n",
    "# desc = 'dixie_bs2020_test_20211227'\n",
    "# utils.exportImgtoAsset(miller, \n",
    "#                         desc=desc, \n",
    "#                         asset_folder= \"users/kwoodward/burn-severity/bs_images\", \n",
    "#                         export_type='single_fire',\n",
    "#                         export=True,\n",
    "#                         default=sensor)\n",
    "\n",
    "# # CONUS/multi-fire export template\n",
    "# # To Google Drive\n",
    "# desc = 'CA_bs2021_nifcFires_20220713'\n",
    "# utils.exportImgtoDrive(annual_conus_bs.clip(CA),\n",
    "#                         desc,\n",
    "#                         export_type='conus',\n",
    "#                         folder='BurnSeverity_outputs',\n",
    "#                         export=False)\n",
    "#                         #default=sensor)\n",
    "\n",
    "\n",
    "# To Asset\n",
    "desc = 'CA_bs2021_nifcFires_20220713'\n",
    "utils.exportImgtoAsset(annual_conus_bs.clip(CA), \n",
    "                        desc=desc, \n",
    "                        asset_folder= \"users/kwoodward/burn-severity/bs_images\", \n",
    "                        export_type='conus',\n",
    "                        export=True)\n",
    "                        #default=sensor)"
   ]
  },
  {
   "cell_type": "code",
   "execution_count": null,
   "metadata": {},
   "outputs": [],
   "source": []
  }
 ],
 "metadata": {
  "kernelspec": {
   "display_name": "Python 3 (ipykernel)",
   "language": "python",
   "name": "python3"
  },
  "language_info": {
   "codemirror_mode": {
    "name": "ipython",
    "version": 3
   },
   "file_extension": ".py",
   "mimetype": "text/x-python",
   "name": "python",
   "nbconvert_exporter": "python",
   "pygments_lexer": "ipython3",
   "version": "3.8.13"
  },
  "vscode": {
   "interpreter": {
    "hash": "5456adbb3bcda72c3f039b556ea69b5085f7c81f44c93a142b7acd907f0ad587"
   }
  }
 },
 "nbformat": 4,
 "nbformat_minor": 4
}
