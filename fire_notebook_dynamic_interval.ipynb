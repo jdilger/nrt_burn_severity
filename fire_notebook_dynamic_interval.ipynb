{
 "cells": [
  {
   "cell_type": "code",
   "execution_count": 1,
   "metadata": {},
   "outputs": [],
   "source": [
    "import geemap\n",
    "import ee\n",
    "ee.Initialize(project='pyregence-ee')\n",
    "import scripts.analysis_functions as af\n",
    "import scripts.fire_info as fi\n",
    "import scripts.get_image_collections as gic\n",
    "import scripts.utils as utils"
   ]
  },
  {
   "cell_type": "code",
   "execution_count": 2,
   "metadata": {},
   "outputs": [
    {
     "name": "stdout",
     "output_type": "stream",
     "text": [
      "Total Fires in FeatureCollection: 4892\n",
      "Removing very recent fires... removing fires less than 500 acres\n",
      "Computing Burn Severity for 578 fires\n",
      "run mode: realtime\n"
     ]
    }
   ],
   "source": [
    "fires = ee.FeatureCollection(\"projects/pyregence-ee/assets/conus/nifc/nifc_fires_2021_20211215\")\n",
    "acre_min = 500\n",
    "print(f'Total Fires in FeatureCollection: {fires.size().getInfo()}')\n",
    "\n",
    "fires_w_filters = gic.remove_recent(fires).filter(ee.Filter.gte('Acres', acre_min))\n",
    "print(f'Removing very recent fires... removing fires less than {acre_min} acres')\n",
    "print(f'Computing Burn Severity for {fires_w_filters.size().getInfo()} fires')\n",
    "\n",
    "run_mode = fi.config_mode(fires)\n",
    "print(f'run mode: {run_mode}')\n",
    "\n",
    "def bs_calc(feat: ee.Feature):\n",
    "    fire = ee.Feature(feat)\n",
    "    # pass one fire feature into new fire_info function\n",
    "    region,pre_start,pre_end,fire_start,fire_end = fi.get_fire_info_from_feature_v2(fire, run_mode)\n",
    "\n",
    "    \n",
    "    # key consideration for the realtime mode is how to handle more recent fires that may have cloudy imagery... \n",
    "    # can put date filter in gic.remove_recent() further back from today's date so all fires left in the FeatureColl should have enough images to \n",
    "    # get a good .mean() composite, or keep the date filter pretty close to today's date and let it pull T1 realtime toa imgs with no cloudBusting (as is done currently) \n",
    "    # and just caveat that the more recent fire perims will have less reliable BS metric, and its easy to run this every few months to get a better severity estimate on those fires\n",
    "    sensor = \"landsat\"\n",
    "    pre_collection = gic.get_image_collection(sensor,region,pre_start,pre_end,landsatCol='bestls',cloudBustingMethod='bust')\n",
    "    pre_img = gic.get_composite(pre_collection,gic.make_pre_composite,pre_start,pre_end)\n",
    "\n",
    "    if run_mode == 'historical':\n",
    "        post_collection = gic.get_image_collection(sensor,region,fire_start,fire_end,landsatCol='bestls', cloudBustingMethod='bust')\n",
    "    else: # realtime \n",
    "        post_collection = gic.get_image_collection(sensor,region,fire_start,fire_end,landsatCol='bestls', cloudBustingMethod='bestls') # these now passed as None\n",
    "\n",
    "    post_img = gic.get_composite(post_collection,gic.make_pre_composite,fire_start, fire_end) # using make_pre_composite to use the imgColl.mean() composite instead of firstNonNull, since a lot of fires in a year have enough img for a good analysis\n",
    "    \n",
    "    rdnbr = af.rdnbr(pre_img,post_img)\n",
    "    miller = af.miller_thresholds(rdnbr)\n",
    "    \n",
    "    return ee.Image(miller).clip(region).select('MillersThresholds').toByte()\n",
    "\n",
    "bs_imgColl = ee.FeatureCollection(fires_w_filters).map(bs_calc)\n",
    "bs_img = ee.ImageCollection(bs_imgColl).max().rename('SEVERITY')"
   ]
  },
  {
   "cell_type": "code",
   "execution_count": 3,
   "metadata": {},
   "outputs": [
    {
     "data": {
      "application/vnd.jupyter.widget-view+json": {
       "model_id": "4150c3ee42814b93b472100222f7db76",
       "version_major": 2,
       "version_minor": 0
      },
      "text/plain": [
       "Map(center=[36.2576, -118.6633], controls=(WidgetControl(options=['position', 'transparent_bg'], widget=HBox(c…"
      ]
     },
     "metadata": {},
     "output_type": "display_data"
    }
   ],
   "source": [
    "Map = geemap.Map()\n",
    "\n",
    "Map.addLayer(bs_img, {\"min\":0,\"max\":3,\"palette\":[\"00ff1f\",\"fbff0e\",\"ffbc00\",\"ff0000\"]},'bs img')\n",
    "#Map.addLayer(featCollv1, {'color':'pink'}, 'fires', True,0.4)\n",
    "\n",
    "# Map.addLayer(pre_img,{\"bands\":[\"swir2\",\"nir\",\"red\"],\"min\":0,\"max\":0.848},\"pre\")\n",
    "# Map.addLayer(post_img,{\"bands\":[\"swir2\",\"nir\",\"red\"],\"min\":0,\"max\":0.848},\"post\")\n",
    "\n",
    "# Map.addLayer(region, {}, 'region')\n",
    "# Map.centerObject(region, 10)\n",
    "\n",
    "\n",
    "# Map.addLayer(miller.clip(region),{\"min\":0,\"max\":3,\"palette\":[\"00ff1f\",\"fbff0e\",\"ffbc00\",\"ff0000\"]},'miller')\n",
    "Map.setCenter(-118.6633, 36.2576, 7)\n",
    "Map"
   ]
  },
  {
   "cell_type": "markdown",
   "metadata": {},
   "source": [
    "## Looking under the hood at one fire "
   ]
  },
  {
   "cell_type": "code",
   "execution_count": 17,
   "metadata": {},
   "outputs": [
    {
     "name": "stdout",
     "output_type": "stream",
     "text": [
      "run mode: realtime\n",
      "2021-07-13\n",
      "2020-7-13\n",
      "2020-10-11\n",
      "2021-07-13\n",
      "2021-10-11\n",
      "15\n",
      "['ca', 'blue', 'green', 'red', 'nir', 'swir1', 'swir2', 'cirrus', 'temp1', 'temp2', 'BQA', 'date']\n",
      "15\n",
      "['ca', 'blue', 'green', 'red', 'nir', 'swir1', 'swir2', 'cirrus', 'temp1', 'temp2', 'BQA', 'date']\n"
     ]
    }
   ],
   "source": [
    "# Look under the hood for a given fire\n",
    "run_mode = fi.config_mode(fires)\n",
    "print(f'run mode: {run_mode}')\n",
    "\n",
    "#def bs_calc(feat: ee.Feature):\n",
    "fire = ee.FeatureCollection(fires_w_filters.filter(ee.Filter.eq('Name', 'Dixie'))).sort('Acres',False).first()\n",
    "print(fire.getInfo()['properties'])\n",
    "# pass one fire feature into new fire_info function\n",
    "region,pre_start,pre_end,fire_start,fire_end = fi.get_fire_info_from_feature_v2(fire, run_mode)\n",
    "print(pre_start.getInfo())\n",
    "print(pre_end.getInfo())\n",
    "print(fire_start.getInfo())\n",
    "print(fire_end.getInfo())\n",
    "\n",
    "# key consideration for the realtime mode is how to handle more recent fires that may have cloudy imagery... \n",
    "# can put date filter in gic.remove_recent() further back from today's date so all fires left in the FeatureColl should have enough images to \n",
    "# get a good .mean() composite, or keep the date filter pretty close to today's date and let it pull T1 realtime toa imgs with no cloudBusting (as is done currently) \n",
    "# and just caveat that the more recent fire perims will have less reliable BS metric, and its easy to run this every few months to get a better severity estimate on those fires\n",
    "sensor = \"landsat\"\n",
    "pre_collection = gic.get_image_collection(sensor,region,pre_start,pre_end,landsatCol='bestls',cloudBustingMethod='bust')\n",
    "pre_img = gic.get_composite(pre_collection,gic.make_pre_composite,pre_start,pre_end)\n",
    "print(pre_collection.size().getInfo())\n",
    "print(pre_img.bandNames().getInfo())\n",
    "\n",
    "if run_mode == 'historical':\n",
    "    post_collection = gic.get_image_collection(sensor,region,fire_start,fire_end,landsatCol='bestls', cloudBustingMethod='bust')\n",
    "else: # realtime \n",
    "    post_collection = gic.get_image_collection(sensor,region,fire_start,fire_end,landsatCol='bestls', cloudBustingMethod='bestls') # these now passed as None\n",
    "\n",
    "post_img = gic.get_composite(post_collection,gic.make_pre_composite,fire_start, fire_end) # using make_pre_composite to use the imgColl.mean() composite instead of firstNonNull, since a lot of fires in a year have enough img for a good analysis\n",
    "print(post_collection.size().getInfo())\n",
    "print(post_img.bandNames().getInfo())\n",
    "\n",
    "rdnbr = af.rdnbr(pre_img,post_img)\n",
    "miller = af.miller_thresholds(rdnbr)\n",
    "\n",
    "#return ee.Image(miller).clip(region).select('MillersThresholds').toByte()\n",
    "\n",
    "# bs_imgColl = ee.FeatureCollection(fires_w_filters).map(bs_calc)\n",
    "# bs_img = ee.ImageCollection(bs_imgColl).max().rename('SEVERITY')"
   ]
  },
  {
   "cell_type": "code",
   "execution_count": 18,
   "metadata": {},
   "outputs": [
    {
     "data": {
      "application/vnd.jupyter.widget-view+json": {
       "model_id": "99f587e846ca4c749af1c283426c543a",
       "version_major": 2,
       "version_minor": 0
      },
      "text/plain": [
       "Map(center=[40, -100], controls=(WidgetControl(options=['position', 'transparent_bg'], widget=HBox(children=(T…"
      ]
     },
     "metadata": {},
     "output_type": "display_data"
    }
   ],
   "source": [
    "Map = geemap.Map()\n",
    "Map.addLayer(pre_img,{\"bands\":[\"swir2\",\"nir\",\"red\"],\"min\":0,\"max\":0.848},\"pre\")\n",
    "Map.addLayer(post_img,{\"bands\":[\"swir2\",\"nir\",\"red\"],\"min\":0,\"max\":0.848},\"post\")\n",
    "Map.addLayer(rdnbr.clip(region),{\"min\":0,\"max\":1500,\"palette\":[\"00ff1f\",\"fbff0e\",\"ffbc00\",\"ff0000\"]},'rdnbr')\n",
    "Map.addLayer(miller.clip(region),{\"min\":0,\"max\":3,\"palette\":[\"00ff1f\",\"fbff0e\",\"ffbc00\",\"ff0000\"]},'miller')\n",
    "Map.addLayer(region, {}, 'region')\n",
    "Map.centerObject(region, 8)\n",
    "Map\n",
    "\n"
   ]
  },
  {
   "cell_type": "code",
   "execution_count": null,
   "metadata": {},
   "outputs": [],
   "source": [
    "# export img to asset\n",
    "# desc = 'bs_2020fires_gte500ac_v1'\n",
    "# utils.exportImgtoAsset(bs_finalv1, desc=desc, export=True)\n",
    "\n",
    "# desc = 'bs_2020fires_gte500ac_v2'\n",
    "# utils.exportImgtoAsset(bs_finalv2, desc=desc, export=True)\n",
    "\n",
    "# desc = 'bs_2020fires_gte500ac_v3'\n",
    "# utils.exportImgtoAsset(bs_finalv3, desc=desc, export=True)\n",
    "\n",
    "desc = 'bs_2020fires_gte500ac_2021_11_16'\n",
    "utils.exportImgtoAsset(bs_nifc_plus_calfire, desc=desc, export=True)"
   ]
  }
 ],
 "metadata": {
  "interpreter": {
   "hash": "9471d8a5a6a1897ee9c80578c8cc898e57b5e349b99f20e3cbcb657935cc3385"
  },
  "kernelspec": {
   "display_name": "Python 3.9.7 64-bit ('gee': conda)",
   "name": "python3"
  },
  "language_info": {
   "codemirror_mode": {
    "name": "ipython",
    "version": 3
   },
   "file_extension": ".py",
   "mimetype": "text/x-python",
   "name": "python",
   "nbconvert_exporter": "python",
   "pygments_lexer": "ipython3",
   "version": "3.9.7"
  }
 },
 "nbformat": 4,
 "nbformat_minor": 4
}
