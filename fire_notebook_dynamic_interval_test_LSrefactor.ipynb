{
 "cells": [
  {
   "cell_type": "code",
   "execution_count": 14,
   "metadata": {},
   "outputs": [
    {
     "name": "stdout",
     "output_type": "stream",
     "text": [
      "The autoreload extension is already loaded. To reload it, use:\n",
      "  %reload_ext autoreload\n"
     ]
    }
   ],
   "source": [
    "import geemap\n",
    "import ee\n",
    "ee.Initialize()\n",
    "import scripts.analysis_functions as af\n",
    "import scripts.fire_info as fi\n",
    "import scripts.get_image_collections as gic\n",
    "import scripts.get_image_collections2 as gic2\n",
    "import scripts.utils as utils\n",
    "%load_ext autoreload\n",
    "%autoreload 2"
   ]
  },
  {
   "cell_type": "markdown",
   "metadata": {},
   "source": [
    "# For yearly fires (takes a FeatureCollection)"
   ]
  },
  {
   "cell_type": "code",
   "execution_count": 17,
   "metadata": {},
   "outputs": [],
   "source": [
    "def bs_calc(feat: ee.Feature):\n",
    "    fire = ee.Feature(feat)\n",
    "    fire_geom = fire.geometry()\n",
    "    # pass one fire feature into new fire_info function\n",
    "    region,pre_start,pre_end,fire_start,fire_end = fi.get_fire_info_from_feature(fire, run_mode)\n",
    "\n",
    "    # key consideration for the recent mode is how to handle more recent fires that may have cloudy imagery... \n",
    "    # can put date filter value in gic.remove_recent() further back from today's date (currently its 30 days) so all fires left in the FeatureColl should have enough images to \n",
    "    # get a good .mean() composite using gic.make_pre_composite(), or keep the date filter pretty close to today's date and let it pull T1 realtime and toa imgs with no cloudBusting (as is done currently) with gic.make_nrt_composite()\n",
    "    # and just caveat that the more recent fire perims will have less reliable BS metric; its easy to run this every few months to get a better severity estimate on those more recent fires\n",
    "    sensor = \"landsat\"\n",
    "    pre_collection = gic2.getLandsatToa(pre_start,pre_end,fire_geom)\n",
    "    #pre_collection = gic.get_image_collection(sensor,region,pre_start,pre_end,landsatCol='bestls',cloudBustingMethod='bust')\n",
    "    pre_img = gic.get_composite(pre_collection,gic.make_pre_composite,pre_start,pre_end)\n",
    "\n",
    "    if run_mode == 'historical':\n",
    "        post_collection = gic2.getLandsatToa(fire_start,fire_end,fire_geom)\n",
    "        # post_collection = gic.get_image_collection(sensor,region,fire_start,fire_end,landsatCol='bestls', cloudBustingMethod='bust')\n",
    "        post_img = gic.get_composite(post_collection,gic.make_pre_composite,fire_start, fire_end) \n",
    "\n",
    "    else: # recent\n",
    "        post_collection = gic2.getLandsatToa(fire_start,fire_end,fire_geom)\n",
    "        # post_collection = gic.get_image_collection(sensor,region,fire_start,fire_end)\n",
    "        post_img = gic.get_composite(post_collection,gic.make_nrt_composite,sensor) \n",
    "    \n",
    "    rdnbr = af.rdnbr(pre_img,post_img)\n",
    "    miller = af.miller_thresholds(rdnbr)\n",
    "    \n",
    "    return ee.Image(miller).clip(region).select('MillersThresholds').toByte()"
   ]
  },
  {
   "cell_type": "markdown",
   "metadata": {},
   "source": [
    "## NIFC annual perims 2021 & 2022 to supplement MTBS annual fire perims 2013-2020"
   ]
  },
  {
   "cell_type": "code",
   "execution_count": 20,
   "metadata": {},
   "outputs": [
    {
     "name": "stdout",
     "output_type": "stream",
     "text": [
      "Total Fires in FeatureCollection: 589\n",
      "latest fire:  2021-12-30\n",
      "run mode: historical\n",
      "export task started: projects/pyregence-ee/assets/conus/nifc/nifc_bs_2021_gte500acres_20221004\n"
     ]
    }
   ],
   "source": [
    "# One set of yearly fires, no need for remove_recent() or year/ac filtering, that was already done upon data fetch\n",
    "# NIFC\n",
    "yr='2021'\n",
    "fires = ee.FeatureCollection(\"projects/pyregence-ee/assets/conus/nifc/nifc_fires_{yr}_gte500acres_20221004\")\n",
    "print(f'Total Fires in FeatureCollection: {fires.size().getInfo()}')\n",
    "\n",
    "# filter 2022 fires for a July 1 cut-off\n",
    "# fires = fires.filter(ee.Filter.lte('Discovery','2022-07-01'))\n",
    "# print(fires.sort('Discovery',False).first().getInfo()['properties'])\n",
    "\n",
    "latest_fire = fires.sort('Discovery',False).first()\n",
    "print('latest fire: ', latest_fire.get('Discovery').getInfo())\n",
    "\n",
    "run_mode = fi.config_mode(latest_fire)\n",
    "print(f'run mode: {run_mode}')\n",
    "\n",
    "bs_imgColl = ee.FeatureCollection(fires).map(bs_calc)\n",
    "annual_conus_bs = ee.ImageCollection(bs_imgColl).max().add(1).rename('SEVERITY') #shift severity values +1 so 0 can be nodata\n",
    "# To Asset\n",
    "desc = f'nifc_bs_{yr}_gte500acres_20221004'\n",
    "utils.exportImgtoAsset(annual_conus_bs, \n",
    "                    desc=desc,\n",
    "                    region=None,\n",
    "                    asset_folder= \"projects/pyregence-ee/assets/conus/nifc\", \n",
    "                    export_type='conus',\n",
    "                    export=True)\n",
    "                    #default=sensor)"
   ]
  },
  {
   "cell_type": "markdown",
   "metadata": {},
   "source": [
    "## MTBS annual fire perims 2013-2020"
   ]
  },
  {
   "cell_type": "code",
   "execution_count": 28,
   "metadata": {},
   "outputs": [
    {
     "name": "stdout",
     "output_type": "stream",
     "text": [
      "Removing very recent fires... filtering fires above 0 acres that burned in 2013\n",
      "Computing Burn Severity for 672 fires\n",
      "latest fire:  2013-12-19\n",
      "run mode: historical\n",
      "export task started: projects/pyregence-ee/assets/conus/mtbs/mtbs_annual_bs_2013\n",
      "\n",
      "\n",
      "Removing very recent fires... filtering fires above 0 acres that burned in 2014\n",
      "Computing Burn Severity for 1000 fires\n",
      "latest fire:  2014-12-16\n",
      "run mode: historical\n",
      "export task started: projects/pyregence-ee/assets/conus/mtbs/mtbs_annual_bs_2014\n",
      "\n",
      "\n",
      "Removing very recent fires... filtering fires above 0 acres that burned in 2015\n",
      "Computing Burn Severity for 1151 fires\n",
      "latest fire:  2015-12-26\n",
      "run mode: historical\n",
      "export task started: projects/pyregence-ee/assets/conus/mtbs/mtbs_annual_bs_2015\n",
      "\n",
      "\n",
      "Removing very recent fires... filtering fires above 0 acres that burned in 2016\n",
      "Computing Burn Severity for 1331 fires\n",
      "latest fire:  2016-12-30\n",
      "run mode: historical\n",
      "export task started: projects/pyregence-ee/assets/conus/mtbs/mtbs_annual_bs_2016\n",
      "\n",
      "\n",
      "Removing very recent fires... filtering fires above 0 acres that burned in 2017\n",
      "Computing Burn Severity for 1294 fires\n",
      "latest fire:  2017-12-21\n",
      "run mode: historical\n",
      "export task started: projects/pyregence-ee/assets/conus/mtbs/mtbs_annual_bs_2017\n",
      "\n",
      "\n",
      "Removing very recent fires... filtering fires above 0 acres that burned in 2018\n",
      "Computing Burn Severity for 1129 fires\n",
      "latest fire:  2018-12-14\n",
      "run mode: historical\n",
      "export task started: projects/pyregence-ee/assets/conus/mtbs/mtbs_annual_bs_2018\n",
      "\n",
      "\n",
      "Removing very recent fires... filtering fires above 0 acres that burned in 2019\n",
      "Computing Burn Severity for 810 fires\n",
      "latest fire:  2019-12-24\n",
      "run mode: historical\n",
      "export task started: projects/pyregence-ee/assets/conus/mtbs/mtbs_annual_bs_2019\n",
      "\n",
      "\n",
      "Removing very recent fires... filtering fires above 0 acres that burned in 2020\n",
      "Computing Burn Severity for 814 fires\n",
      "latest fire:  2020-12-24\n",
      "run mode: historical\n",
      "export task started: projects/pyregence-ee/assets/conus/mtbs/mtbs_annual_bs_2020\n",
      "\n",
      "\n",
      "Removing very recent fires... filtering fires above 0 acres that burned in 2021\n",
      "Computing Burn Severity for 154 fires\n",
      "latest fire:  2021-12-15\n",
      "run mode: historical\n",
      "export task started: projects/pyregence-ee/assets/conus/mtbs/mtbs_annual_bs_2021\n",
      "\n",
      "\n"
     ]
    }
   ],
   "source": [
    "# Running for each year of MTBS fire perims \n",
    "fires = ee.FeatureCollection(\"projects/pyregence-ee/assets/conus/mtbs/mtbs_fires_all_20220928\")\n",
    "print(f'Total Fires in FeatureCollection: {fires.size().getInfo()}')\n",
    "acre_min = 0 # can filter by Acres field \n",
    "years = [2013,2014,2015,2016,2017,2018,2019,2020,2021]\n",
    "\n",
    "for y in years:\n",
    "    fires_w_filters = gic.remove_recent(fires).filter(ee.Filter.And(ee.Filter.gte('BurnBndAc', acre_min),ee.Filter.eq('Year',y)) )\n",
    "    print(f'Removing very recent fires... filtering fires above {acre_min} acres that burned in {y}')\n",
    "    print(f'Computing Burn Severity for {fires_w_filters.size().getInfo()} fires')\n",
    "\n",
    "    latest_fire = fires_w_filters.sort('Discovery',False).first()\n",
    "    print('latest fire: ', latest_fire.get('Discovery').getInfo())\n",
    "\n",
    "    run_mode = fi.config_mode(latest_fire)\n",
    "    print(f'run mode: {run_mode}')\n",
    "    \n",
    "    bs_imgColl = ee.FeatureCollection(fires_w_filters).map(bs_calc)\n",
    "    annual_conus_bs = ee.ImageCollection(bs_imgColl).max().add(1).rename('SEVERITY').set('Year',y) #shift severity values +1 so 0 can be nodata\n",
    "    \n",
    "    # To Asset\n",
    "    desc = f'mtbs_annual_bs_{str(y)}'\n",
    "    utils.exportImgtoAsset(annual_conus_bs, \n",
    "                        desc=desc,\n",
    "                        region=None,\n",
    "                        asset_folder= \"projects/pyregence-ee/assets/conus/mtbs\", \n",
    "                        export_type='conus',\n",
    "                        export=True)\n",
    "                        #default=sensor)\n",
    "    print('\\n')"
   ]
  },
  {
   "cell_type": "code",
   "execution_count": 29,
   "metadata": {},
   "outputs": [
    {
     "data": {
      "application/vnd.jupyter.widget-view+json": {
       "model_id": "796bfb89e8c34db2bd04fe00c4e0aee3",
       "version_major": 2,
       "version_minor": 0
      },
      "text/plain": [
       "Map(center=[20, 0], controls=(WidgetControl(options=['position', 'transparent_bg'], widget=HBox(children=(Togg…"
      ]
     },
     "execution_count": 29,
     "metadata": {},
     "output_type": "execute_result"
    }
   ],
   "source": [
    "Map = geemap.Map()\n",
    "Map.addLayer(annual_conus_bs, {\"min\":1,\"max\":4,\"palette\":[\"00ff1f\",\"fbff0e\",\"ffbc00\",\"ff0000\"]},'bs img')\n",
    "\n",
    "Map"
   ]
  },
  {
   "cell_type": "markdown",
   "metadata": {},
   "source": [
    "# For one fire (takes a Feature)\n",
    "### Select a fire from a pre-existing fire featurecollection or provide your own fire feature asset (must have 'Discovery' property with value of format ee.String('yyyy-mm-dd') )\n"
   ]
  },
  {
   "cell_type": "code",
   "execution_count": null,
   "metadata": {},
   "outputs": [],
   "source": [
    "# NIFC\n",
    "fires = ee.FeatureCollection(\"projects/pyregence-ee/assets/conus/nifc/nifc_fires_2021_gte500acres_20221004\")\n",
    "# fires = ee.FeatureCollection(\"projects/pyregence-ee/assets/conus/nifc/nifc_fires_2022_gte500acres_20221004\")\n",
    "# #fire = fires_w_filters.filter(ee.Filter.eq('Name', 'Dixie')).sort('Acres',False).first()\n",
    "fire = fires.sort('Discovery',False).first()\n",
    "fire_geom = ee.Feature(fire).geometry()\n",
    "\n",
    "run_mode = fi.config_mode(fire)\n",
    "print(f'run mode: {run_mode}')\n",
    "\n",
    "print(fire.getInfo()['properties'])\n",
    "\n",
    "# pass one fire feature into new fire_info function\n",
    "region,pre_start,pre_end,fire_start,fire_end = fi.get_fire_info_from_feature(fire, run_mode)\n",
    "print(pre_start.getInfo())\n",
    "print(pre_end.getInfo())\n",
    "print(fire_start.getInfo())\n",
    "print(fire_end.getInfo())\n",
    "\n",
    "sensor = \"landsat\"\n",
    "pre_collection = gic2.getLandsatToa(pre_start,pre_end,fire_geom)\n",
    "#pre_collection = gic2.get_image_collection(sensor,region,pre_start,pre_end,landsatCol='bestls',cloudBustingMethod='bust')\n",
    "pre_img = gic.get_composite(pre_collection,gic.make_pre_composite,pre_start,pre_end)\n",
    "\n",
    "if run_mode == 'historical':\n",
    "    post_collection = gic2.getLandsatToa(fire_start,fire_end,fire_geom)\n",
    "    # post_collection = gic.get_image_collection(sensor,region,fire_start,fire_end,landsatCol='bestls', cloudBustingMethod='bust')\n",
    "    post_img = gic.get_composite(post_collection,gic.make_pre_composite,fire_start, fire_end) \n",
    "\n",
    "else: # recent\n",
    "    post_collection = gic2.getLandsatToa(fire_start,fire_end,fire_geom)\n",
    "    # post_collection = gic.get_image_collection(sensor,region,fire_start,fire_end)\n",
    "    post_img = gic.get_composite(post_collection,gic.make_nrt_composite, sensor) \n",
    "\n",
    "print(pre_collection.size().getInfo())\n",
    "print(pre_img.bandNames().getInfo())\n",
    "\n",
    "print(post_collection.size().getInfo())\n",
    "print(post_img.bandNames().getInfo())\n",
    "\n",
    "rdnbr = af.rdnbr(pre_img,post_img)\n",
    "miller = af.miller_thresholds(rdnbr).add(1).clip(region).select('MillersThresholds').toByte()"
   ]
  },
  {
   "cell_type": "code",
   "execution_count": null,
   "metadata": {},
   "outputs": [],
   "source": [
    "# look at post_img and determine for yourself if its good enough to be using for analysis \n",
    "Map = geemap.Map()\n",
    "Map.addLayer(pre_img,{\"bands\":[\"SWIR2\",\"NIR\",\"RED\"],\"min\":0,\"max\":0.848},\"pre\")\n",
    "Map.addLayer(post_img,{\"bands\":[\"SWIR2\",\"NIR\",\"RED\"],\"min\":0,\"max\":0.848},\"post\")\n",
    "Map.addLayer(rdnbr.clip(region),{\"min\":0,\"max\":1500,\"palette\":[\"00ff1f\",\"fbff0e\",\"ffbc00\",\"ff0000\"]},'rdnbr')\n",
    "Map.addLayer(miller.clip(region),{\"min\":1,\"max\":4,\"palette\":[\"00ff1f\",\"fbff0e\",\"ffbc00\",\"ff0000\"]},'miller')\n",
    "Map.addLayer(region, {}, 'region')\n",
    "Map.centerObject(region, 11)\n",
    "Map\n",
    "\n"
   ]
  },
  {
   "cell_type": "markdown",
   "metadata": {},
   "source": [
    "## Exports\n",
    "### To export an annual set of fires, use export_type = 'conus', if its a single fire, use export_type = 'single_fire'"
   ]
  },
  {
   "cell_type": "code",
   "execution_count": null,
   "metadata": {},
   "outputs": [],
   "source": [
    "CA = ee.FeatureCollection(\"TIGER/2018/States\").filter(ee.Filter.eq('NAME','California')).first()\n",
    "# Map.addLayer(ee.Feature(CA))\n",
    "# print(ee.Feature(CA).getInfo()['properties'])\n",
    "                                                      \n",
    "# Single FIre export templates\n",
    "# # To Google Drive\n",
    "# desc = 'dixie_bs2020_test_20211227'\n",
    "# utils.exportImgtoDrive(miller,\n",
    "#                         desc,\n",
    "#                         export_type='single_fire',\n",
    "#                         folder='BurnSeverity_outputs',\n",
    "#                         export=True,\n",
    "#                         default=sensor)\n",
    "\n",
    "\n",
    "# # To Asset\n",
    "# desc = 'dixie_bs2020_test_20211227'\n",
    "# utils.exportImgtoAsset(miller, \n",
    "#                         desc=desc, \n",
    "#                         asset_folder= \"users/kwoodward/burn-severity/bs_images\", \n",
    "#                         export_type='single_fire',\n",
    "#                         export=True,\n",
    "#                         default=sensor)\n",
    "\n",
    "# # CONUS/multi-fire export template\n",
    "# # To Google Drive\n",
    "# desc = 'CA_bs2021_nifcFires_20220713'\n",
    "# utils.exportImgtoDrive(annual_conus_bs.clip(CA),\n",
    "#                         desc,\n",
    "#                         export_type='conus',\n",
    "#                         folder='BurnSeverity_outputs',\n",
    "#                         export=False)\n",
    "#                         #default=sensor)\n",
    "\n",
    "\n",
    "# To Asset\n",
    "desc = 'CA_bs2021_nifcFires_20220713'\n",
    "utils.exportImgtoAsset(annual_conus_bs.clip(CA), \n",
    "                        desc=desc, \n",
    "                        asset_folder= \"users/kwoodward/burn-severity/bs_images\", \n",
    "                        export_type='conus',\n",
    "                        export=True)\n",
    "                        #default=sensor)"
   ]
  },
  {
   "cell_type": "code",
   "execution_count": null,
   "metadata": {},
   "outputs": [],
   "source": []
  }
 ],
 "metadata": {
  "kernelspec": {
   "display_name": "Python 3 (ipykernel)",
   "language": "python",
   "name": "python3"
  },
  "language_info": {
   "codemirror_mode": {
    "name": "ipython",
    "version": 3
   },
   "file_extension": ".py",
   "mimetype": "text/x-python",
   "name": "python",
   "nbconvert_exporter": "python",
   "pygments_lexer": "ipython3",
   "version": "3.8.13"
  },
  "vscode": {
   "interpreter": {
    "hash": "5456adbb3bcda72c3f039b556ea69b5085f7c81f44c93a142b7acd907f0ad587"
   }
  }
 },
 "nbformat": 4,
 "nbformat_minor": 4
}
