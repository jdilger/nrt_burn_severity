{
 "cells": [
  {
   "cell_type": "code",
   "execution_count": null,
   "metadata": {},
   "outputs": [],
   "source": [
    "import geemap\n",
    "import ee\n",
    "ee.Initialize()\n",
    "from datetime import datetime\n",
    "import scripts.analysis_functions as af\n",
    "import scripts.fire_info as fi\n",
    "import scripts.get_image_collections as gic\n"
   ]
  },
  {
   "cell_type": "code",
   "execution_count": null,
   "metadata": {},
   "outputs": [],
   "source": [
    "py_date = datetime.utcnow()\n",
    "current_date = py_date.strftime(\"%Y-%m-%d\")\n",
    "fire_dict = fi.fire_dict\n",
    "# dixie,tamarack,beckwourth\n",
    "fire = \"dixie\"\n",
    "\n",
    "region_str, fire_start, fire_end, pre_start, pre_end = fi.get_fire_by_name(fire, current_date)\n",
    "region = ee.FeatureCollection(region_str)\n",
    "\n",
    "print(fire_start,fire_end)"
   ]
  },
  {
   "cell_type": "code",
   "execution_count": null,
   "metadata": {},
   "outputs": [],
   "source": [
    "# landsatCol : None, t2, bestls\n",
    "# None=T1 real time toa, t2=None+ T1 real time toa, bestls=T1 toa\n",
    "# cloudBustingMethod : None, bust\n",
    "# None=No cloud masking/busting, bust=cloud busting\n",
    "# sensor : landsat, sentinel2\n",
    "sensor = \"landsat\"\n",
    "pre_collection = gic.get_image_collection(sensor,region,pre_start,pre_end,landsatCol='bestls',cloudBustingMethod='bust')\n",
    "print(pre_collection.size().getInfo())\n",
    "pre_img = gic.get_composite(pre_collection,gic.make_pre_composite,pre_start,pre_end)\n",
    "print(pre_img.bandNames().getInfo())\n",
    "\n",
    "post_collection = gic.get_image_collection(sensor,region,fire_start,fire_end,landsatCol=None)\n",
    "print(post_collection.size().getInfo())\n",
    "post_img = gic.get_composite(post_collection,gic.make_nrt_composite,sensor)\n",
    "print(post_img.bandNames().getInfo())"
   ]
  },
  {
   "cell_type": "code",
   "execution_count": null,
   "metadata": {},
   "outputs": [],
   "source": [
    "Map = geemap.Map()\n",
    "Map"
   ]
  },
  {
   "cell_type": "code",
   "execution_count": null,
   "metadata": {},
   "outputs": [],
   "source": [
    "Map.addLayer(pre_img,{\"bands\":[\"swir2\",\"nir\",\"red\"],\"min\":0,\"max\":0.848},\"pre\")\n",
    "Map.addLayer(post_img,{\"bands\":[\"swir2\",\"nir\",\"red\"],\"min\":0,\"max\":0.848},\"post\")\n",
    "Map.addLayer(region)"
   ]
  },
  {
   "cell_type": "code",
   "execution_count": null,
   "metadata": {},
   "outputs": [],
   "source": [
    "rdnbr = af.rdnbr(pre_img,post_img)\n",
    "miller = af.miller_thresholds(rdnbr)\n",
    "Map.addLayer(rdnbr.clip(region),{\"min\":0,\"max\":1500,\"palette\":[\"00ff1f\",\"fbff0e\",\"ffbc00\",\"ff0000\"]},'rdnbr')\n",
    "Map.addLayer(miller.clip(region),{\"min\":0,\"max\":3,\"palette\":[\"00ff1f\",\"fbff0e\",\"ffbc00\",\"ff0000\"]},'miller')"
   ]
  },
  {
   "cell_type": "code",
   "execution_count": null,
   "metadata": {},
   "outputs": [],
   "source": [
    "import scripts.utils as utils\n",
    "\n",
    "desc = utils.default_export_name(fire, fire_end, fire_start, pre_end, pre_start) + \"_cog\"\n",
    "prefix = f'fire_response_2021/{sensor}'\n",
    "print(desc)\n",
    "img = miller.addBands(rdnbr).addBands(post_img.select(\"date\")).clip(region)\n",
    "utils.exportMapToCloud(img.toDouble(),desc,region.geometry(),prefix=prefix,default=sensor)\n"
   ]
  },
  {
   "cell_type": "markdown",
   "metadata": {},
   "source": [
    "Optionally, it is possible to use the analysis functions to create NBR or dNBR insead of the RdNBR "
   ]
  },
  {
   "cell_type": "code",
   "execution_count": null,
   "metadata": {},
   "outputs": [],
   "source": [
    "# getting dNBR by instead of RdNBR\n",
    "pre_nbr = af.nbr(pre_img)\n",
    "ntr_nbr = af.nbr(post_img)\n",
    "dnbr = af.dnbr(pre_nbr,ntr_nbr)\n",
    "Map.addLayer(dnbr,{\"min\":-1000,\"max\":1000,\"palette\":[\"00ff1f\",\"fbff0e\",\"ffbc00\",\"ff0000\"]},'dnbr')"
   ]
  },
  {
   "cell_type": "code",
   "execution_count": null,
   "metadata": {},
   "outputs": [],
   "source": [
    "import scripts.utils as utils\n",
    "\n",
    "desc = utils.default_export_name(fire, fire_end, fire_start, pre_end, pre_start) + \"_dnbr\"\n",
    "prefix = f'fire_response_2021/{sensor}'\n",
    "print(desc)\n",
    "img = dnbr.addBands(post_img.select(\"date\")).clip(region)\n",
    "utils.exportMapToCloud(img.toDouble(),desc,region.geometry(),prefix=prefix,default=sensor)\n"
   ]
  },
  {
   "cell_type": "code",
   "execution_count": null,
   "metadata": {},
   "outputs": [],
   "source": []
  }
 ],
 "metadata": {
  "kernelspec": {
   "display_name": "Python 3 (ipykernel)",
   "language": "python",
   "name": "python3"
  },
  "language_info": {
   "codemirror_mode": {
    "name": "ipython",
    "version": 3
   },
   "file_extension": ".py",
   "mimetype": "text/x-python",
   "name": "python",
   "nbconvert_exporter": "python",
   "pygments_lexer": "ipython3",
   "version": "3.8.10"
  }
 },
 "nbformat": 4,
 "nbformat_minor": 4
}
