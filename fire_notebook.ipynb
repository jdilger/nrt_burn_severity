{
 "cells": [
  {
   "cell_type": "code",
   "execution_count": 5,
   "metadata": {},
   "outputs": [],
   "source": [
    "import geemap\n",
    "import ee\n",
    "ee.Initialize(project='pyregence-ee')\n",
    "from datetime import datetime\n",
    "import scripts.analysis_functions as af\n",
    "import scripts.fire_info as fi\n",
    "import scripts.get_image_collections as gic\n"
   ]
  },
  {
   "cell_type": "code",
   "execution_count": 6,
   "metadata": {},
   "outputs": [
    {
     "name": "stdout",
     "output_type": "stream",
     "text": [
      "2021-07-17 2021-11-04\n"
     ]
    }
   ],
   "source": [
    "py_date = datetime.utcnow()\n",
    "current_date = py_date.strftime(\"%Y-%m-%d\")\n",
    "fire_dict = fi.fire_dict\n",
    "# dixie,tamarack,beckwourth\n",
    "fire = \"hennessey\"\n",
    "\n",
    "region_str, fire_start, fire_end, pre_start, pre_end = fi.get_fire_by_name(fire, current_date)\n",
    "region = ee.FeatureCollection(region_str)\n",
    "\n",
    "print(fire_start,fire_end)"
   ]
  },
  {
   "cell_type": "code",
   "execution_count": 7,
   "metadata": {},
   "outputs": [
    {
     "name": "stdout",
     "output_type": "stream",
     "text": [
      "12\n",
      "['ca', 'blue', 'green', 'red', 'nir', 'swir1', 'swir2', 'cirrus', 'temp1', 'temp2', 'BQA', 'date']\n",
      "21\n",
      "['ca', 'blue', 'green', 'red', 'nir', 'swir1', 'swir2', 'cirrus', 'temp1', 'temp2', 'BQA', 'date']\n"
     ]
    }
   ],
   "source": [
    "# landsatCol : None, t2, bestls\n",
    "# None=T1 real time toa, t2=None+ T1 real time toa, bestls=T1 toa\n",
    "# cloudBustingMethod : None, bust\n",
    "# None=No cloud masking/busting, bust=cloud busting\n",
    "# sensor : landsat, sentinel2\n",
    "sensor = \"landsat\"\n",
    "pre_collection = gic.get_image_collection(sensor,region,pre_start,pre_end,landsatCol='bestls',cloudBustingMethod='bust')\n",
    "print(pre_collection.size().getInfo())\n",
    "pre_img = gic.get_composite(pre_collection,gic.make_pre_composite,pre_start,pre_end)\n",
    "print(pre_img.bandNames().getInfo())\n",
    "\n",
    "post_collection = gic.get_image_collection(sensor,region,fire_start,fire_end,landsatCol=None)\n",
    "print(post_collection.size().getInfo())\n",
    "post_img = gic.get_composite(post_collection,gic.make_nrt_composite,sensor)\n",
    "print(post_img.bandNames().getInfo())"
   ]
  },
  {
   "cell_type": "code",
   "execution_count": 8,
   "metadata": {},
   "outputs": [
    {
     "data": {
      "application/vnd.jupyter.widget-view+json": {
       "model_id": "29f8f7d84b3c481781100633175200dd",
       "version_major": 2,
       "version_minor": 0
      },
      "text/plain": [
       "Map(center=[40, -100], controls=(WidgetControl(options=['position', 'transparent_bg'], widget=HBox(children=(T…"
      ]
     },
     "metadata": {},
     "output_type": "display_data"
    }
   ],
   "source": [
    "Map = geemap.Map()\n",
    "Map"
   ]
  },
  {
   "cell_type": "code",
   "execution_count": 9,
   "metadata": {},
   "outputs": [],
   "source": [
    "Map.addLayer(pre_img,{\"bands\":[\"swir2\",\"nir\",\"red\"],\"min\":0,\"max\":0.848},\"pre\")\n",
    "Map.addLayer(post_img,{\"bands\":[\"swir2\",\"nir\",\"red\"],\"min\":0,\"max\":0.848},\"post\")\n",
    "Map.addLayer(region)"
   ]
  },
  {
   "cell_type": "code",
   "execution_count": 10,
   "metadata": {},
   "outputs": [],
   "source": [
    "rdnbr = af.rdnbr(pre_img,post_img)\n",
    "miller = af.miller_thresholds(rdnbr)\n",
    "Map.addLayer(rdnbr.clip(region),{\"min\":0,\"max\":1500,\"palette\":[\"00ff1f\",\"fbff0e\",\"ffbc00\",\"ff0000\"]},'rdnbr')\n",
    "Map.addLayer(miller.clip(region),{\"min\":0,\"max\":3,\"palette\":[\"00ff1f\",\"fbff0e\",\"ffbc00\",\"ff0000\"]},'miller')"
   ]
  },
  {
   "cell_type": "code",
   "execution_count": 11,
   "metadata": {},
   "outputs": [
    {
     "name": "stdout",
     "output_type": "stream",
     "text": [
      "hennessey_20211104_20210717_20190917_20190717_cog\n",
      "task started : hennessey_20211104_20210717_20190917_20190717_cog\n"
     ]
    }
   ],
   "source": [
    "import scripts.utils as utils\n",
    "\n",
    "desc = utils.default_export_name(fire, fire_end, fire_start, pre_end, pre_start) + \"_cog\"\n",
    "prefix = f'fire_response_2021/{sensor}'\n",
    "print(desc)\n",
    "img = miller.addBands(rdnbr).addBands(post_img.select(\"date\")).clip(region)\n",
    "utils.exportMapToCloud(img.toDouble(),desc,region.geometry(),prefix=prefix,default=sensor)\n"
   ]
  },
  {
   "cell_type": "markdown",
   "metadata": {},
   "source": [
    "Optionally, it is possible to use the analysis functions to create NBR or dNBR insead of the RdNBR "
   ]
  },
  {
   "cell_type": "code",
   "execution_count": 12,
   "metadata": {},
   "outputs": [],
   "source": [
    "# getting dNBR by instead of RdNBR\n",
    "pre_nbr = af.nbr(pre_img)\n",
    "ntr_nbr = af.nbr(post_img)\n",
    "dnbr = af.dnbr(pre_nbr,ntr_nbr)\n",
    "Map.addLayer(dnbr.clip(region),{\"min\":-1000,\"max\":1000,\"palette\":[\"00ff1f\",\"fbff0e\",\"ffbc00\",\"ff0000\"]},'dnbr')"
   ]
  },
  {
   "cell_type": "code",
   "execution_count": 13,
   "metadata": {},
   "outputs": [
    {
     "name": "stdout",
     "output_type": "stream",
     "text": [
      "hennessey_20211104_20210717_20190917_20190717_dnbr\n",
      "task started : hennessey_20211104_20210717_20190917_20190717_dnbr\n"
     ]
    }
   ],
   "source": [
    "import scripts.utils as utils\n",
    "\n",
    "desc = utils.default_export_name(fire, fire_end, fire_start, pre_end, pre_start) + \"_dnbr\"\n",
    "prefix = f'fire_response_2021/{sensor}'\n",
    "print(desc)\n",
    "img = dnbr.addBands(post_img.select(\"date\")).clip(region)\n",
    "utils.exportMapToCloud(img.toDouble(),desc,region.geometry(),prefix=prefix,default=sensor)\n"
   ]
  }
 ],
 "metadata": {
  "interpreter": {
   "hash": "9471d8a5a6a1897ee9c80578c8cc898e57b5e349b99f20e3cbcb657935cc3385"
  },
  "kernelspec": {
   "display_name": "Python 3.9.7 64-bit ('gee': conda)",
   "name": "python3"
  },
  "language_info": {
   "codemirror_mode": {
    "name": "ipython",
    "version": 3
   },
   "file_extension": ".py",
   "mimetype": "text/x-python",
   "name": "python",
   "nbconvert_exporter": "python",
   "pygments_lexer": "ipython3",
   "version": "3.9.7"
  }
 },
 "nbformat": 4,
 "nbformat_minor": 4
}
