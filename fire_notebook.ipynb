{
 "cells": [
  {
   "cell_type": "code",
   "execution_count": 1,
   "metadata": {},
   "outputs": [],
   "source": [
    "import geemap\n",
    "import ee\n",
    "ee.Initialize()\n",
    "from datetime import datetime\n",
    "import scripts.analysis_functions as af\n",
    "import scripts.fire_info as fi\n",
    "import scripts.get_image_collections as gic\n"
   ]
  },
  {
   "cell_type": "code",
   "execution_count": 2,
   "metadata": {},
   "outputs": [
    {
     "name": "stdout",
     "output_type": "stream",
     "text": [
      "2021-07-04 2021-08-11\n"
     ]
    }
   ],
   "source": [
    "py_date = datetime.utcnow()\n",
    "current_date = py_date.strftime(\"%Y-%m-%d\")\n",
    "fire_dict = fi.fire_dict\n",
    "# dixie,tamarack,beckwourth\n",
    "fire = \"tamarack\"\n",
    "\n",
    "region_str, fire_start, fire_end, pre_start, pre_end = fi.get_fire_by_name(fire, current_date)\n",
    "region = ee.FeatureCollection(region_str)\n",
    "\n",
    "print(fire_start,fire_end)"
   ]
  },
  {
   "cell_type": "code",
   "execution_count": 3,
   "metadata": {},
   "outputs": [
    {
     "name": "stdout",
     "output_type": "stream",
     "text": [
      "144\n",
      "2020-06-01 2020-09-01\n",
      "['cb', 'blue', 'green', 'red', 're1', 're2', 're3', 'nir', 're4', 'waterVapor', 'cirrus', 'swir1', 'swir2', 'QA60', 'date']\n",
      "56\n",
      "sentinel2\n",
      "['cb', 'blue', 'green', 'red', 're1', 're2', 're3', 'nir', 're4', 'waterVapor', 'cirrus', 'swir1', 'swir2', 'QA60', 'date']\n"
     ]
    }
   ],
   "source": [
    "# landsatCol : None, t2, bestls\n",
    "# None=T1 real time toa, t2=None+ T1 real time toa, bestls=T1 toa\n",
    "# cloudBustingMethod : None, bust\n",
    "# None=No cloud masking/busting, bust=cloud busting\n",
    "# sensor : landsat, sentinel2\n",
    "sensor = \"sentinel2\"\n",
    "pre_collection = gic.get_image_collection(sensor,region,pre_start,pre_end,landsatCol='bestls',cloudBustingMethod='bust')\n",
    "print(pre_collection.size().getInfo())\n",
    "pre_img = gic.get_composite(pre_collection,gic.make_pre_composite,pre_start,pre_end)\n",
    "print(pre_img.bandNames().getInfo())\n",
    "\n",
    "post_collection = gic.get_image_collection(sensor,region,fire_start,fire_end,landsatCol=None)\n",
    "print(post_collection.size().getInfo())\n",
    "post_img = gic.get_composite(post_collection,gic.make_nrt_composite,sensor)\n",
    "print(post_img.bandNames().getInfo())"
   ]
  },
  {
   "cell_type": "code",
   "execution_count": 5,
   "metadata": {},
   "outputs": [],
   "source": [
    "Map.addLayer(pre_img,{\"bands\":[\"swir2\",\"nir\",\"red\"],\"min\":0,\"max\":0.848},\"pre\")\n",
    "Map.addLayer(post_img,{\"bands\":[\"swir2\",\"nir\",\"red\"],\"min\":0,\"max\":0.848},\"post\")\n",
    "Map.addLayer(region)"
   ]
  },
  {
   "cell_type": "code",
   "execution_count": 4,
   "metadata": {},
   "outputs": [
    {
     "data": {
      "application/vnd.jupyter.widget-view+json": {
       "model_id": "bbe0b579952147b78741217d2a6c2e09",
       "version_major": 2,
       "version_minor": 0
      },
      "text/plain": [
       "Map(center=[40, -100], controls=(WidgetControl(options=['position', 'transparent_bg'], widget=HBox(children=(T…"
      ]
     },
     "metadata": {},
     "output_type": "display_data"
    }
   ],
   "source": [
    "Map = geemap.Map()\n",
    "Map"
   ]
  },
  {
   "cell_type": "code",
   "execution_count": 6,
   "metadata": {},
   "outputs": [],
   "source": [
    "rdnbr = af.rdnbr(pre_img,post_img)\n",
    "miller = af.miller_thresholds(rdnbr)\n",
    "Map.addLayer(rdnbr.clip(region),{\"min\":0,\"max\":1500,\"palette\":[\"00ff1f\",\"fbff0e\",\"ffbc00\",\"ff0000\"]},'rdnbr')\n",
    "Map.addLayer(miller.clip(region),{\"min\":0,\"max\":3,\"palette\":[\"00ff1f\",\"fbff0e\",\"ffbc00\",\"ff0000\"]},'miller')"
   ]
  },
  {
   "cell_type": "code",
   "execution_count": 7,
   "metadata": {},
   "outputs": [
    {
     "name": "stdout",
     "output_type": "stream",
     "text": [
      "tamarack_20210811_20210704_20200901_20200601_cog\n",
      "task started : tamarack_20210811_20210704_20200901_20200601_cog\n"
     ]
    }
   ],
   "source": [
    "import scripts.utils as utils\n",
    "\n",
    "desc = utils.default_export_name(fire, fire_end, fire_start, pre_end, pre_start) + \"_cog\"\n",
    "prefix = f'fire_response_2021/{sensor}'\n",
    "print(desc)\n",
    "img = miller.addBands(rdnbr).addBands(post_img.select(\"date\")).clip(region)\n",
    "utils.exportMapToCloud(img.toDouble(),desc,region.geometry(),prefix=prefix,default=sensor)\n"
   ]
  },
  {
   "cell_type": "code",
   "execution_count": null,
   "metadata": {},
   "outputs": [],
   "source": []
  }
 ],
 "metadata": {
  "kernelspec": {
   "display_name": "Python 3",
   "language": "python",
   "name": "python3"
  },
  "language_info": {
   "codemirror_mode": {
    "name": "ipython",
    "version": 3
   },
   "file_extension": ".py",
   "mimetype": "text/x-python",
   "name": "python",
   "nbconvert_exporter": "python",
   "pygments_lexer": "ipython3",
   "version": "3.8.5"
  }
 },
 "nbformat": 4,
 "nbformat_minor": 4
}
