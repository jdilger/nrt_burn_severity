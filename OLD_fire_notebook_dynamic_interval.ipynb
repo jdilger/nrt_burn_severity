{
 "cells": [
  {
   "cell_type": "code",
   "execution_count": null,
   "metadata": {},
   "outputs": [],
   "source": [
    "import geemap\n",
    "import ee\n",
    "ee.Initialize()\n",
    "import scripts.analysis_functions as af\n",
    "import scripts.fire_info as fi\n",
    "import scripts.get_image_collections as gic\n",
    "import scripts.utils as utils"
   ]
  },
  {
   "cell_type": "markdown",
   "metadata": {},
   "source": [
    "# For yearly fires (takes a FeatureCollection)"
   ]
  },
  {
   "cell_type": "code",
   "execution_count": null,
   "metadata": {},
   "outputs": [],
   "source": [
    "yr='2021'\n",
    "fires = ee.FeatureCollection(f\"projects/pyregence-ee/assets/conus/nifc/nifc_fires_{yr}_gte500acres_20221004\")\n",
    "print(f'Total Fires in FeatureCollection: {fires.size().getInfo()}')\n",
    "\n",
    "# fires = ee.FeatureCollection(\"users/kwoodward/burn-severity/perimeters/nifc_fires_2020_20211220\")\n",
    "\n",
    "acre_min = 0 # can filter by Acres field \n",
    "print(f'Total Fires in FeatureCollection: {fires.size().getInfo()}')\n",
    "\n",
    "# fires_w_filters = gic.remove_recent(fires).filter(ee.Filter.gte('Acres', acre_min))\n",
    "\n",
    "# print(f'Removing very recent fires... removing fires less than {acre_min} acres')\n",
    "# print(f'Computing Burn Severity for {fires_w_filters.size().getInfo()} fires')\n",
    "\n",
    "latest_fire = fires.sort('Discovery',False).first()\n",
    "# latest_fire = fires_w_filters.sort('Discovery',False).first()\n",
    "print('latest fire:\\n', latest_fire.getInfo()['properties'])\n",
    "\n",
    "run_mode = fi.config_mode(latest_fire)\n",
    "print(f'run mode: {run_mode}')\n",
    "\n",
    "def bs_calc(feat: ee.Feature):\n",
    "    fire = ee.Feature(feat)\n",
    "    # pass one fire feature into new fire_info function\n",
    "    region,pre_start,pre_end,fire_start,fire_end = fi.get_fire_info_from_feature(fire, run_mode)\n",
    "\n",
    "    # key consideration for the recent mode is how to handle more recent fires that may have cloudy imagery... \n",
    "    # can put date filter value in gic.remove_recent() further back from today's date (currently its 30 days) so all fires left in the FeatureColl should have enough images to \n",
    "    # get a good .mean() composite using gic.make_pre_composite(), or keep the date filter pretty close to today's date and let it pull T1 realtime and toa imgs with no cloudBusting (as is done currently) with gic.make_nrt_composite()\n",
    "    # and just caveat that the more recent fire perims will have less reliable BS metric; its easy to run this every few months to get a better severity estimate on those more recent fires\n",
    "    sensor = \"landsat\"\n",
    "    pre_collection = gic.get_image_collection(sensor,region,pre_start,pre_end,landsatCol='bestls',cloudBustingMethod='bust')\n",
    "    pre_img = gic.get_composite(pre_collection,gic.make_pre_composite,pre_start,pre_end)\n",
    "\n",
    "    if run_mode == 'historical':\n",
    "        post_collection = gic.get_image_collection(sensor,region,fire_start,fire_end,landsatCol='bestls', cloudBustingMethod='bust')\n",
    "        post_img = gic.get_composite(post_collection,gic.make_pre_composite,fire_start, fire_end) \n",
    "\n",
    "    else: # recent\n",
    "        post_collection = gic.get_image_collection(sensor,region,fire_start,fire_end)\n",
    "        post_img = gic.get_composite(post_collection,gic.make_nrt_composite, sensor) \n",
    "    \n",
    "    rdnbr = af.rdnbr(pre_img,post_img)\n",
    "    miller = af.miller_thresholds(rdnbr)\n",
    "    \n",
    "    return ee.Image(miller).clip(region).select('MillersThresholds').toByte()\n",
    "\n",
    "bs_imgColl = ee.FeatureCollection(fires).map(bs_calc)\n",
    "# bs_imgColl = ee.FeatureCollection(fires_w_filters).map(bs_calc)\n",
    "annual_conus_bs = ee.ImageCollection(bs_imgColl).max().add(1).rename('SEVERITY') #shift severity values +1 so 0 can be nodata"
   ]
  },
  {
   "cell_type": "code",
   "execution_count": 3,
   "metadata": {},
   "outputs": [
    {
     "data": {
      "application/vnd.jupyter.widget-view+json": {
       "model_id": "811c1bcfdeb04e3599c7713cb3d09fbf",
       "version_major": 2,
       "version_minor": 0
      },
      "text/plain": [
       "Map(center=[36.2576, -118.6633], controls=(WidgetControl(options=['position', 'transparent_bg'], widget=HBox(c…"
      ]
     },
     "metadata": {},
     "output_type": "display_data"
    }
   ],
   "source": [
    "Map = geemap.Map()\n",
    "Map.addLayer(annual_conus_bs, {\"min\":1,\"max\":4,\"palette\":[\"00ff1f\",\"fbff0e\",\"ffbc00\",\"ff0000\"]},'bs img')\n",
    "\n",
    "Map.setCenter(-118.6633, 36.2576, 7)\n",
    "Map"
   ]
  },
  {
   "cell_type": "markdown",
   "metadata": {},
   "source": [
    "# For one fire (takes a Feature)\n",
    "### Select a fire from a pre-existing fire featurecollection or provide your own fire feature asset (must have 'Discovery' property with value of format ee.String('yyyy-mm-dd') )\n"
   ]
  },
  {
   "cell_type": "code",
   "execution_count": 4,
   "metadata": {},
   "outputs": [
    {
     "name": "stdout",
     "output_type": "stream",
     "text": [
      "run mode: historical\n",
      "{'Acres': 3052.16115021611, 'Discovery': '2020-12-24', 'Discovery_Date': {'type': 'Date', 'value': 1608768000000}, 'Name': 'Creek 5', 'OBJECTID': 861}\n",
      "2019-9-26\n",
      "2019-12-25\n",
      "2021-9-25\n",
      "2021-12-24\n",
      "6\n",
      "['ca', 'blue', 'green', 'red', 'nir', 'swir1', 'swir2', 'cirrus', 'temp1', 'temp2', 'BQA', 'date']\n",
      "4\n",
      "['ca', 'blue', 'green', 'red', 'nir', 'swir1', 'swir2', 'cirrus', 'temp1', 'temp2', 'BQA', 'date']\n"
     ]
    }
   ],
   "source": [
    "#fire = fires_w_filters.filter(ee.Filter.eq('Name', 'Dixie')).sort('Acres',False).first()\n",
    "fire = fires_w_filters.filter(ee.Filter.eq('Name', 'Creek 5')).sort('Acres',False).first()\n",
    "\n",
    "run_mode = fi.config_mode(fire)\n",
    "print(f'run mode: {run_mode}')\n",
    "\n",
    "print(fire.getInfo()['properties'])\n",
    "\n",
    "# pass one fire feature into new fire_info function\n",
    "region,pre_start,pre_end,fire_start,fire_end = fi.get_fire_info_from_feature(fire, run_mode)\n",
    "print(pre_start.getInfo())\n",
    "print(pre_end.getInfo())\n",
    "print(fire_start.getInfo())\n",
    "print(fire_end.getInfo())\n",
    "\n",
    "sensor = \"landsat\"\n",
    "pre_collection = gic.get_image_collection(sensor,region,pre_start,pre_end,landsatCol='bestls',cloudBustingMethod='bust')\n",
    "pre_img = gic.get_composite(pre_collection,gic.make_pre_composite,pre_start,pre_end)\n",
    "print(pre_collection.size().getInfo())\n",
    "print(pre_img.bandNames().getInfo())\n",
    "\n",
    "if run_mode == 'historical':\n",
    "    post_collection = gic.get_image_collection(sensor,region,fire_start,fire_end,landsatCol='bestls', cloudBustingMethod='bust')\n",
    "    post_img = gic.get_composite(post_collection,gic.make_pre_composite,fire_start, fire_end)\n",
    "else: # recent \n",
    "    post_collection = gic.get_image_collection(sensor,region,fire_start,fire_end)\n",
    "    post_img = gic.get_composite(post_collection,gic.make_nrt_composite, sensor)\n",
    "\n",
    "print(post_collection.size().getInfo())\n",
    "print(post_img.bandNames().getInfo())\n",
    "\n",
    "rdnbr = af.rdnbr(pre_img,post_img)\n",
    "miller = af.miller_thresholds(rdnbr).add(1).clip(region).select('MillersThresholds').toByte()"
   ]
  },
  {
   "cell_type": "code",
   "execution_count": 8,
   "metadata": {},
   "outputs": [
    {
     "data": {
      "application/vnd.jupyter.widget-view+json": {
       "model_id": "02a0b43a1aae4830a42bd94167cf0f04",
       "version_major": 2,
       "version_minor": 0
      },
      "text/plain": [
       "Map(center=[33.38055510100062, -117.28694918122679], controls=(WidgetControl(options=['position', 'transparent…"
      ]
     },
     "metadata": {},
     "output_type": "display_data"
    }
   ],
   "source": [
    "# look at post_img and determine for yourself if its good enough to be using for analysis \n",
    "Map = geemap.Map()\n",
    "Map.addLayer(pre_img,{\"bands\":[\"swir2\",\"nir\",\"red\"],\"min\":0,\"max\":0.848},\"pre\")\n",
    "Map.addLayer(post_img,{\"bands\":[\"swir2\",\"nir\",\"red\"],\"min\":0,\"max\":0.848},\"post\")\n",
    "Map.addLayer(rdnbr.clip(region),{\"min\":0,\"max\":1500,\"palette\":[\"00ff1f\",\"fbff0e\",\"ffbc00\",\"ff0000\"]},'rdnbr')\n",
    "Map.addLayer(miller.clip(region),{\"min\":1,\"max\":4,\"palette\":[\"00ff1f\",\"fbff0e\",\"ffbc00\",\"ff0000\"]},'miller')\n",
    "Map.addLayer(region, {}, 'region')\n",
    "Map.centerObject(region, 11)\n",
    "Map\n",
    "\n"
   ]
  },
  {
   "cell_type": "markdown",
   "metadata": {},
   "source": [
    "## Exports\n",
    "### To export an annual set of fires, use export_type = 'conus', if its a single fire, use export_type = 'single_fire'"
   ]
  },
  {
   "cell_type": "code",
   "execution_count": 12,
   "metadata": {},
   "outputs": [
    {
     "name": "stdout",
     "output_type": "stream",
     "text": [
      "export task started: users/kwoodward/burn-severity/bs_images/CA_bs2021_nifcFires_20220713\n"
     ]
    }
   ],
   "source": [
    "CA = ee.FeatureCollection(\"TIGER/2018/States\").filter(ee.Filter.eq('NAME','California')).first()\n",
    "# Map.addLayer(ee.Feature(CA))\n",
    "# print(ee.Feature(CA).getInfo()['properties'])\n",
    "                                                      \n",
    "# Single FIre export templates\n",
    "# # To Google Drive\n",
    "# desc = 'dixie_bs2020_test_20211227'\n",
    "# utils.exportImgtoDrive(miller,\n",
    "#                         desc,\n",
    "#                         export_type='single_fire',\n",
    "#                         folder='BurnSeverity_outputs',\n",
    "#                         export=True,\n",
    "#                         default=sensor)\n",
    "\n",
    "\n",
    "# # To Asset\n",
    "# desc = 'dixie_bs2020_test_20211227'\n",
    "# utils.exportImgtoAsset(miller, \n",
    "#                         desc=desc, \n",
    "#                         asset_folder= \"users/kwoodward/burn-severity/bs_images\", \n",
    "#                         export_type='single_fire',\n",
    "#                         export=True,\n",
    "#                         default=sensor)\n",
    "\n",
    "# # CONUS/multi-fire export template\n",
    "# # To Google Drive\n",
    "# desc = 'CA_bs2021_nifcFires_20220713'\n",
    "# utils.exportImgtoDrive(annual_conus_bs.clip(CA),\n",
    "#                         desc,\n",
    "#                         export_type='conus',\n",
    "#                         folder='BurnSeverity_outputs',\n",
    "#                         export=False)\n",
    "#                         #default=sensor)\n",
    "\n",
    "\n",
    "# To Asset\n",
    "desc = 'CA_bs2021_nifcFires_20220713'\n",
    "utils.exportImgtoAsset(annual_conus_bs.clip(CA), \n",
    "                        desc=desc, \n",
    "                        asset_folder= \"users/kwoodward/burn-severity/bs_images\", \n",
    "                        export_type='conus',\n",
    "                        export=True)\n",
    "                        #default=sensor)"
   ]
  },
  {
   "cell_type": "code",
   "execution_count": null,
   "metadata": {},
   "outputs": [],
   "source": []
  }
 ],
 "metadata": {
  "kernelspec": {
   "display_name": "Python 3.8.13 ('gee')",
   "language": "python",
   "name": "python3"
  },
  "language_info": {
   "codemirror_mode": {
    "name": "ipython",
    "version": 3
   },
   "file_extension": ".py",
   "mimetype": "text/x-python",
   "name": "python",
   "nbconvert_exporter": "python",
   "pygments_lexer": "ipython3",
   "version": "3.8.13"
  },
  "vscode": {
   "interpreter": {
    "hash": "5456adbb3bcda72c3f039b556ea69b5085f7c81f44c93a142b7acd907f0ad587"
   }
  }
 },
 "nbformat": 4,
 "nbformat_minor": 4
}
