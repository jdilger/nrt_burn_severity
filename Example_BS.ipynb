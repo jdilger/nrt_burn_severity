{
 "cells": [
  {
   "cell_type": "markdown",
   "metadata": {},
   "source": [
    "An example of creating a burn severity map using basic inputs"
   ]
  },
  {
   "cell_type": "code",
   "execution_count": 3,
   "metadata": {},
   "outputs": [],
   "source": [
    "import ee\n",
    "\n",
    "from scripts.get_image_collections2 import getLandsatToa\n",
    "from scripts.analysis_functions import rdnbr, dnbr, nbr"
   ]
  },
  {
   "cell_type": "code",
   "execution_count": null,
   "metadata": {},
   "outputs": [],
   "source": [
    "def make_mean_composite(col : ee.ImageCollection, start_date : str, end_date:str)->ee.Image:\n",
    "    _col = col.filterDate(start_date,end_date)    \n",
    "    return _col.mean()"
   ]
  },
  {
   "cell_type": "code",
   "execution_count": null,
   "metadata": {},
   "outputs": [],
   "source": [
    "aoi = ee.FeatureCollection(\"path/to/aoi\")\n",
    "pre_start = '2023-06-01'\n",
    "pre_end = '2023-07-01'\n",
    "pre_collection = getLandsatToa(startDate=pre_start, endDate=pre_end, geometry=aoi)\n",
    "pre_image = pre_collection.mean()\n",
    "\n",
    "\n",
    "post_start = '2023-06-01'\n",
    "post_end = '2023-07-01'\n",
    "post_collection = getLandsatToa(startDate=pre_start, endDate=pre_end, geometry=aoi)\n",
    "post_image = post_collection.mean()\n",
    "\n"
   ]
  },
  {
   "cell_type": "markdown",
   "metadata": {},
   "source": [
    "calculating NBR"
   ]
  },
  {
   "cell_type": "code",
   "execution_count": null,
   "metadata": {},
   "outputs": [],
   "source": [
    "pre_nbr = nbr(pre_image)"
   ]
  },
  {
   "cell_type": "markdown",
   "metadata": {},
   "source": [
    "calculating dNBR"
   ]
  },
  {
   "cell_type": "code",
   "execution_count": null,
   "metadata": {},
   "outputs": [],
   "source": [
    "delta_nbr = dnbr(pre=pre_image, post=post_image)"
   ]
  },
  {
   "cell_type": "markdown",
   "metadata": {},
   "source": [
    "calculate RdNBR"
   ]
  },
  {
   "cell_type": "code",
   "execution_count": null,
   "metadata": {},
   "outputs": [],
   "source": [
    "relative_delta_nbr = rdnbr(pre=pre_image, nrt=post_image)"
   ]
  }
 ],
 "metadata": {
  "kernelspec": {
   "display_name": "sig",
   "language": "python",
   "name": "python3"
  },
  "language_info": {
   "codemirror_mode": {
    "name": "ipython",
    "version": 3
   },
   "file_extension": ".py",
   "mimetype": "text/x-python",
   "name": "python",
   "nbconvert_exporter": "python",
   "pygments_lexer": "ipython3",
   "version": "3.11.8"
  }
 },
 "nbformat": 4,
 "nbformat_minor": 2
}
