{
 "cells": [
  {
   "cell_type": "code",
   "execution_count": 1,
   "metadata": {},
   "outputs": [],
   "source": [
    "import geemap\n",
    "import ee\n",
    "ee.Initialize()\n",
    "from datetime import datetime\n",
    "import scripts.analysis_functions as af\n",
    "import scripts.fire_info as fi\n",
    "import scripts.get_image_collections as gic\n"
   ]
  },
  {
   "cell_type": "code",
   "execution_count": 2,
   "metadata": {},
   "outputs": [
    {
     "name": "stdout",
     "output_type": "stream",
     "text": [
      "projects/pyregence-ee/assets/fires_bs_tool/dixie_perim_20220810\n",
      "2020-04-17\n",
      "2020-07-16\n",
      "2022-04-17\n",
      "2022-07-16\n"
     ]
    }
   ],
   "source": [
    "py_date = datetime.utcnow()\n",
    "current_date = None#py_date.strftime(\"%Y-%m-%d\")\n",
    "fire_dict = fi.fire_dict\n",
    "# dixie,tamarack,beckwourth\n",
    "fire = \"dixie\"\n",
    "\n",
    "region_str, post_start, post_end, pre_start, pre_end = fi.get_fire_by_name(fire, current_date)\n",
    "region = ee.FeatureCollection(region_str)\n",
    "\n",
    "print(region_str)\n",
    "print(pre_start)\n",
    "print(pre_end)\n",
    "print(post_start)\n",
    "print(post_end)"
   ]
  },
  {
   "cell_type": "code",
   "execution_count": 3,
   "metadata": {},
   "outputs": [
    {
     "name": "stdout",
     "output_type": "stream",
     "text": [
      "C1 only\n",
      "13\n",
      "['ca', 'blue', 'green', 'red', 'nir', 'swir1', 'swir2', 'cirrus', 'temp1', 'temp2', 'BQA', 'date']\n",
      "C2 only\n",
      "1518424\n",
      "12\n",
      "['ca', 'blue', 'green', 'red', 'nir', 'swir1', 'swir2', 'cirrus', 'temp1', 'temp2', 'BQA', 'date']\n"
     ]
    }
   ],
   "source": [
    "# landsatCol : None, t2, bestls\n",
    "# None=T1 real time toa, t2=None+ T1 real time toa, bestls=T1 toa\n",
    "# cloudBustingMethod : None, bust\n",
    "# None=No cloud masking/busting, bust=cloud busting\n",
    "# sensor : landsat, sentinel2\n",
    "sensor = \"landsat\"\n",
    "pre_collection = gic.get_image_collection(sensor,region,pre_start,pre_end,landsatCol='bestls',cloudBustingMethod='bust')\n",
    "print(pre_collection.size().getInfo())\n",
    "pre_img = gic.get_composite(pre_collection,gic.make_pre_composite,pre_start,pre_end)\n",
    "print(pre_img.bandNames().getInfo())\n",
    "\n",
    "post_collection = gic.get_image_collection(sensor,region,post_start,post_end,landsatCol=None) # for real-time, landsatCol=None, cloudBustingMethod=None\n",
    "print(post_collection.size().getInfo())\n",
    "post_img = gic.get_composite(post_collection,gic.make_nrt_composite,sensor)\n",
    "print(post_img.bandNames().getInfo())"
   ]
  },
  {
   "cell_type": "code",
   "execution_count": 4,
   "metadata": {},
   "outputs": [
    {
     "data": {
      "application/vnd.jupyter.widget-view+json": {
       "model_id": "6ddb73b61a404d6484d54b222403f05a",
       "version_major": 2,
       "version_minor": 0
      },
      "text/plain": [
       "Map(center=[20, 0], controls=(WidgetControl(options=['position', 'transparent_bg'], widget=HBox(children=(Togg…"
      ]
     },
     "metadata": {},
     "output_type": "display_data"
    }
   ],
   "source": [
    "Map = geemap.Map()\n",
    "Map"
   ]
  },
  {
   "cell_type": "code",
   "execution_count": 5,
   "metadata": {},
   "outputs": [],
   "source": [
    "Map.addLayer(pre_img,{\"bands\":[\"swir2\",\"nir\",\"red\"],\"min\":0,\"max\":0.848},\"pre\")\n",
    "Map.addLayer(post_img,{\"bands\":[\"swir2\",\"nir\",\"red\"],\"min\":0,\"max\":0.848},\"post\")\n",
    "Map.addLayer(region)\n",
    "Map.centerObject(region,8)"
   ]
  },
  {
   "cell_type": "code",
   "execution_count": 6,
   "metadata": {},
   "outputs": [],
   "source": [
    "rdnbr = af.rdnbr(pre_img,post_img)\n",
    "miller = af.miller_thresholds(rdnbr)\n",
    "Map.addLayer(rdnbr.clip(region),{\"min\":0,\"max\":1500,\"palette\":[\"00ff1f\",\"fbff0e\",\"ffbc00\",\"ff0000\"]},'rdnbr')\n",
    "Map.addLayer(miller.clip(region),{\"min\":0,\"max\":3,\"palette\":[\"00ff1f\",\"fbff0e\",\"ffbc00\",\"ff0000\"]},'miller')"
   ]
  },
  {
   "cell_type": "code",
   "execution_count": 8,
   "metadata": {},
   "outputs": [
    {
     "name": "stdout",
     "output_type": "stream",
     "text": [
      "export task started: BurnSeverity_outputs/dixie_20220716_20220417_20200716_20200417_cog\n"
     ]
    }
   ],
   "source": [
    "import scripts.utils as utils\n",
    "today = py_date.strftime(\"%Y-%m-%d\").replace('-','_')\n",
    "desc = utils.default_export_name(fire, post_end, post_start, pre_end, pre_start) + \"_cog\"\n",
    "prefix = f'{fire}_analysis_{today}/{sensor}'\n",
    "# print(desc)\n",
    "# print(prefix)\n",
    "img = miller.add(1).addBands(rdnbr).addBands(post_img.select(\"date\")).clip(region)\n",
    "#utils.exportMapToCloud(img.toDouble(),desc,region.geometry(),prefix=prefix,default=sensor)\n",
    "utils.exportImgtoDrive(img=img.toDouble(), desc=desc, region=region.geometry().bounds(), export_type='single_fire', export=True, default=sensor)"
   ]
  },
  {
   "cell_type": "markdown",
   "metadata": {},
   "source": [
    "Optionally, it is possible to use the analysis functions to create NBR or dNBR insead of the RdNBR "
   ]
  },
  {
   "cell_type": "code",
   "execution_count": null,
   "metadata": {},
   "outputs": [],
   "source": [
    "# getting dNBR by instead of RdNBR\n",
    "pre_nbr = af.nbr(pre_img)\n",
    "ntr_nbr = af.nbr(post_img)\n",
    "dnbr = af.dnbr(pre_nbr,ntr_nbr)\n",
    "Map.addLayer(dnbr.clip(region),{\"min\":-1000,\"max\":1000,\"palette\":[\"00ff1f\",\"fbff0e\",\"ffbc00\",\"ff0000\"]},'dnbr')"
   ]
  },
  {
   "cell_type": "code",
   "execution_count": null,
   "metadata": {},
   "outputs": [],
   "source": [
    "import scripts.utils as utils\n",
    "\n",
    "desc = utils.default_export_name(fire, post_end, post_start, pre_end, pre_start) + \"_dnbr\"\n",
    "prefix = f'fire_response_2021/{sensor}'\n",
    "print(desc)\n",
    "img = dnbr.addBands(post_img.select(\"date\")).clip(region)\n",
    "utils.exportMapToCloud(img.toDouble(),desc,region.geometry(),prefix=prefix,default=sensor)\n"
   ]
  }
 ],
 "metadata": {
  "kernelspec": {
   "display_name": "Python 3.9.13 ('landfire')",
   "language": "python",
   "name": "python3"
  },
  "language_info": {
   "codemirror_mode": {
    "name": "ipython",
    "version": 3
   },
   "file_extension": ".py",
   "mimetype": "text/x-python",
   "name": "python",
   "nbconvert_exporter": "python",
   "pygments_lexer": "ipython3",
   "version": "3.9.13"
  },
  "vscode": {
   "interpreter": {
    "hash": "b045285e38fda93a4327fd6f5b25a15537de31176f3a715e434b68ddefce5dcb"
   }
  }
 },
 "nbformat": 4,
 "nbformat_minor": 4
}
